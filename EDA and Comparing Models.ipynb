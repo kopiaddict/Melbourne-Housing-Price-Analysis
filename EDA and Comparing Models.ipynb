{
 "cells": [
  {
   "cell_type": "markdown",
   "id": "8302f1ab",
   "metadata": {},
   "source": [
    "## Melbourne Housing Price Analysis "
   ]
  },
  {
   "cell_type": "markdown",
   "id": "0fb25283",
   "metadata": {},
   "source": [
    "Loading the libraries needed"
   ]
  },
  {
   "cell_type": "code",
   "execution_count": 119,
   "id": "0d8de379",
   "metadata": {},
   "outputs": [],
   "source": [
    "#import libraries for EDA and visualisation\n",
    "import warnings\n",
    "warnings.simplefilter(action='ignore', category=FutureWarning)\n",
    "import pandas as pd\n",
    "import numpy as np\n",
    "from pandas.plotting import scatter_matrix\n",
    "import seaborn as sns\n",
    "import matplotlib.pyplot as plt\n",
    "%matplotlib inline\n",
    "from datetime import datetime\n",
    "from scipy.stats import norm"
   ]
  },
  {
   "cell_type": "markdown",
   "id": "199c9a93",
   "metadata": {},
   "source": [
    "Reading in the data which is available for download at this site. Source: https://www.kaggle.com/datasets/dansbecker/melbourne-housing-snapshot"
   ]
  },
  {
   "cell_type": "code",
   "execution_count": 121,
   "id": "083e3efa",
   "metadata": {},
   "outputs": [
    {
     "name": "stdout",
     "output_type": "stream",
     "text": [
      "<class 'pandas.core.frame.DataFrame'>\n",
      "RangeIndex: 34857 entries, 0 to 34856\n",
      "Data columns (total 21 columns):\n",
      " #   Column         Non-Null Count  Dtype  \n",
      "---  ------         --------------  -----  \n",
      " 0   Suburb         34857 non-null  object \n",
      " 1   Address        34857 non-null  object \n",
      " 2   Rooms          34857 non-null  int64  \n",
      " 3   Type           34857 non-null  object \n",
      " 4   Price          27247 non-null  float64\n",
      " 5   Method         34857 non-null  object \n",
      " 6   SellerG        34857 non-null  object \n",
      " 7   Date           34857 non-null  object \n",
      " 8   Distance       34856 non-null  float64\n",
      " 9   Postcode       34856 non-null  float64\n",
      " 10  Bedroom2       26640 non-null  float64\n",
      " 11  Bathroom       26631 non-null  float64\n",
      " 12  Car            26129 non-null  float64\n",
      " 13  Landsize       23047 non-null  float64\n",
      " 14  BuildingArea   13742 non-null  float64\n",
      " 15  YearBuilt      15551 non-null  float64\n",
      " 16  CouncilArea    34854 non-null  object \n",
      " 17  Lattitude      26881 non-null  float64\n",
      " 18  Longtitude     26881 non-null  float64\n",
      " 19  Regionname     34854 non-null  object \n",
      " 20  Propertycount  34854 non-null  float64\n",
      "dtypes: float64(12), int64(1), object(8)\n",
      "memory usage: 5.6+ MB\n"
     ]
    }
   ],
   "source": [
    "data= pd.read_csv('melb_data.csv')\n",
    "pd.set_option('display.max_columns', None)\n",
    "data.info()"
   ]
  },
  {
   "cell_type": "code",
   "execution_count": 3,
   "id": "925817ba",
   "metadata": {},
   "outputs": [
    {
     "data": {
      "text/html": [
       "<div>\n",
       "<style scoped>\n",
       "    .dataframe tbody tr th:only-of-type {\n",
       "        vertical-align: middle;\n",
       "    }\n",
       "\n",
       "    .dataframe tbody tr th {\n",
       "        vertical-align: top;\n",
       "    }\n",
       "\n",
       "    .dataframe thead th {\n",
       "        text-align: right;\n",
       "    }\n",
       "</style>\n",
       "<table border=\"1\" class=\"dataframe\">\n",
       "  <thead>\n",
       "    <tr style=\"text-align: right;\">\n",
       "      <th></th>\n",
       "      <th>Suburb</th>\n",
       "      <th>Address</th>\n",
       "      <th>Rooms</th>\n",
       "      <th>Type</th>\n",
       "      <th>Price</th>\n",
       "      <th>Method</th>\n",
       "      <th>SellerG</th>\n",
       "      <th>Date</th>\n",
       "      <th>Distance</th>\n",
       "      <th>Postcode</th>\n",
       "      <th>Bedroom2</th>\n",
       "      <th>Bathroom</th>\n",
       "      <th>Car</th>\n",
       "      <th>Landsize</th>\n",
       "      <th>BuildingArea</th>\n",
       "      <th>YearBuilt</th>\n",
       "      <th>CouncilArea</th>\n",
       "      <th>Lattitude</th>\n",
       "      <th>Longtitude</th>\n",
       "      <th>Regionname</th>\n",
       "      <th>Propertycount</th>\n",
       "    </tr>\n",
       "  </thead>\n",
       "  <tbody>\n",
       "    <tr>\n",
       "      <th>0</th>\n",
       "      <td>Abbotsford</td>\n",
       "      <td>68 Studley St</td>\n",
       "      <td>2</td>\n",
       "      <td>h</td>\n",
       "      <td>NaN</td>\n",
       "      <td>SS</td>\n",
       "      <td>Jellis</td>\n",
       "      <td>3/09/2016</td>\n",
       "      <td>2.5</td>\n",
       "      <td>3067.0</td>\n",
       "      <td>2.0</td>\n",
       "      <td>1.0</td>\n",
       "      <td>1.0</td>\n",
       "      <td>126.0</td>\n",
       "      <td>NaN</td>\n",
       "      <td>NaN</td>\n",
       "      <td>Yarra City Council</td>\n",
       "      <td>-37.8014</td>\n",
       "      <td>144.9958</td>\n",
       "      <td>Northern Metropolitan</td>\n",
       "      <td>4019.0</td>\n",
       "    </tr>\n",
       "    <tr>\n",
       "      <th>1</th>\n",
       "      <td>Abbotsford</td>\n",
       "      <td>85 Turner St</td>\n",
       "      <td>2</td>\n",
       "      <td>h</td>\n",
       "      <td>1480000.0</td>\n",
       "      <td>S</td>\n",
       "      <td>Biggin</td>\n",
       "      <td>3/12/2016</td>\n",
       "      <td>2.5</td>\n",
       "      <td>3067.0</td>\n",
       "      <td>2.0</td>\n",
       "      <td>1.0</td>\n",
       "      <td>1.0</td>\n",
       "      <td>202.0</td>\n",
       "      <td>NaN</td>\n",
       "      <td>NaN</td>\n",
       "      <td>Yarra City Council</td>\n",
       "      <td>-37.7996</td>\n",
       "      <td>144.9984</td>\n",
       "      <td>Northern Metropolitan</td>\n",
       "      <td>4019.0</td>\n",
       "    </tr>\n",
       "    <tr>\n",
       "      <th>2</th>\n",
       "      <td>Abbotsford</td>\n",
       "      <td>25 Bloomburg St</td>\n",
       "      <td>2</td>\n",
       "      <td>h</td>\n",
       "      <td>1035000.0</td>\n",
       "      <td>S</td>\n",
       "      <td>Biggin</td>\n",
       "      <td>4/02/2016</td>\n",
       "      <td>2.5</td>\n",
       "      <td>3067.0</td>\n",
       "      <td>2.0</td>\n",
       "      <td>1.0</td>\n",
       "      <td>0.0</td>\n",
       "      <td>156.0</td>\n",
       "      <td>79.0</td>\n",
       "      <td>1900.0</td>\n",
       "      <td>Yarra City Council</td>\n",
       "      <td>-37.8079</td>\n",
       "      <td>144.9934</td>\n",
       "      <td>Northern Metropolitan</td>\n",
       "      <td>4019.0</td>\n",
       "    </tr>\n",
       "    <tr>\n",
       "      <th>3</th>\n",
       "      <td>Abbotsford</td>\n",
       "      <td>18/659 Victoria St</td>\n",
       "      <td>3</td>\n",
       "      <td>u</td>\n",
       "      <td>NaN</td>\n",
       "      <td>VB</td>\n",
       "      <td>Rounds</td>\n",
       "      <td>4/02/2016</td>\n",
       "      <td>2.5</td>\n",
       "      <td>3067.0</td>\n",
       "      <td>3.0</td>\n",
       "      <td>2.0</td>\n",
       "      <td>1.0</td>\n",
       "      <td>0.0</td>\n",
       "      <td>NaN</td>\n",
       "      <td>NaN</td>\n",
       "      <td>Yarra City Council</td>\n",
       "      <td>-37.8114</td>\n",
       "      <td>145.0116</td>\n",
       "      <td>Northern Metropolitan</td>\n",
       "      <td>4019.0</td>\n",
       "    </tr>\n",
       "    <tr>\n",
       "      <th>4</th>\n",
       "      <td>Abbotsford</td>\n",
       "      <td>5 Charles St</td>\n",
       "      <td>3</td>\n",
       "      <td>h</td>\n",
       "      <td>1465000.0</td>\n",
       "      <td>SP</td>\n",
       "      <td>Biggin</td>\n",
       "      <td>4/03/2017</td>\n",
       "      <td>2.5</td>\n",
       "      <td>3067.0</td>\n",
       "      <td>3.0</td>\n",
       "      <td>2.0</td>\n",
       "      <td>0.0</td>\n",
       "      <td>134.0</td>\n",
       "      <td>150.0</td>\n",
       "      <td>1900.0</td>\n",
       "      <td>Yarra City Council</td>\n",
       "      <td>-37.8093</td>\n",
       "      <td>144.9944</td>\n",
       "      <td>Northern Metropolitan</td>\n",
       "      <td>4019.0</td>\n",
       "    </tr>\n",
       "  </tbody>\n",
       "</table>\n",
       "</div>"
      ],
      "text/plain": [
       "       Suburb             Address  Rooms Type      Price Method SellerG  \\\n",
       "0  Abbotsford       68 Studley St      2    h        NaN     SS  Jellis   \n",
       "1  Abbotsford        85 Turner St      2    h  1480000.0      S  Biggin   \n",
       "2  Abbotsford     25 Bloomburg St      2    h  1035000.0      S  Biggin   \n",
       "3  Abbotsford  18/659 Victoria St      3    u        NaN     VB  Rounds   \n",
       "4  Abbotsford        5 Charles St      3    h  1465000.0     SP  Biggin   \n",
       "\n",
       "        Date  Distance  Postcode  Bedroom2  Bathroom  Car  Landsize  \\\n",
       "0  3/09/2016       2.5    3067.0       2.0       1.0  1.0     126.0   \n",
       "1  3/12/2016       2.5    3067.0       2.0       1.0  1.0     202.0   \n",
       "2  4/02/2016       2.5    3067.0       2.0       1.0  0.0     156.0   \n",
       "3  4/02/2016       2.5    3067.0       3.0       2.0  1.0       0.0   \n",
       "4  4/03/2017       2.5    3067.0       3.0       2.0  0.0     134.0   \n",
       "\n",
       "   BuildingArea  YearBuilt         CouncilArea  Lattitude  Longtitude  \\\n",
       "0           NaN        NaN  Yarra City Council   -37.8014    144.9958   \n",
       "1           NaN        NaN  Yarra City Council   -37.7996    144.9984   \n",
       "2          79.0     1900.0  Yarra City Council   -37.8079    144.9934   \n",
       "3           NaN        NaN  Yarra City Council   -37.8114    145.0116   \n",
       "4         150.0     1900.0  Yarra City Council   -37.8093    144.9944   \n",
       "\n",
       "              Regionname  Propertycount  \n",
       "0  Northern Metropolitan         4019.0  \n",
       "1  Northern Metropolitan         4019.0  \n",
       "2  Northern Metropolitan         4019.0  \n",
       "3  Northern Metropolitan         4019.0  \n",
       "4  Northern Metropolitan         4019.0  "
      ]
     },
     "execution_count": 3,
     "metadata": {},
     "output_type": "execute_result"
    }
   ],
   "source": [
    "data.head()"
   ]
  },
  {
   "cell_type": "code",
   "execution_count": 4,
   "id": "a4cdad05",
   "metadata": {},
   "outputs": [
    {
     "data": {
      "text/plain": [
       "(34857, 21)"
      ]
     },
     "execution_count": 4,
     "metadata": {},
     "output_type": "execute_result"
    }
   ],
   "source": [
    "data.shape"
   ]
  },
  {
   "cell_type": "code",
   "execution_count": 5,
   "id": "eb1cddae",
   "metadata": {},
   "outputs": [
    {
     "data": {
      "text/plain": [
       "Rooms                0\n",
       "Price             7610\n",
       "Distance             1\n",
       "Postcode             1\n",
       "Bedroom2          8217\n",
       "Bathroom          8226\n",
       "Car               8728\n",
       "Landsize         11810\n",
       "BuildingArea     21115\n",
       "YearBuilt        19306\n",
       "Lattitude         7976\n",
       "Longtitude        7976\n",
       "Propertycount        3\n",
       "dtype: int64"
      ]
     },
     "execution_count": 5,
     "metadata": {},
     "output_type": "execute_result"
    }
   ],
   "source": [
    "# Numerical columns and which has null values \n",
    "num_col = data.select_dtypes(exclude=['object'])\n",
    "num_col\n",
    "num_col.isnull().sum()"
   ]
  },
  {
   "cell_type": "code",
   "execution_count": 6,
   "id": "29260c0b",
   "metadata": {},
   "outputs": [
    {
     "data": {
      "text/plain": [
       "Suburb         0\n",
       "Address        0\n",
       "Type           0\n",
       "Method         0\n",
       "SellerG        0\n",
       "Date           0\n",
       "CouncilArea    3\n",
       "Regionname     3\n",
       "dtype: int64"
      ]
     },
     "execution_count": 6,
     "metadata": {},
     "output_type": "execute_result"
    }
   ],
   "source": [
    "# Categorical columns and which have null values \n",
    "cat_col = data.select_dtypes(exclude=['int64','float64'])\n",
    "cat_col.isnull().sum()"
   ]
  },
  {
   "cell_type": "markdown",
   "id": "bec9a704",
   "metadata": {},
   "source": [
    "### Preliminary analysis of dataset & Data Cleaning"
   ]
  },
  {
   "cell_type": "markdown",
   "id": "f0efe8c7",
   "metadata": {},
   "source": [
    "Address the following points first. \n",
    "\n",
    "1. Change <b>Postcode </b> from float64 to object (category)\n",
    "2. Change <b>Car, Bedroom2 and Bathroom </b> from float64 to integer \n",
    "3. Change <b>YearBuilt </b>from float64 to integer\n",
    "4. Missing Values for <b>BuildingArea, Landsize and Distance </b>\n",
    "5. Missing values for categorical fields \n",
    "6. Change <b>Date  </b>from object to Date field"
   ]
  },
  {
   "cell_type": "markdown",
   "id": "655112b8",
   "metadata": {},
   "source": [
    "<b>Postcode</b>"
   ]
  },
  {
   "cell_type": "code",
   "execution_count": 7,
   "id": "cbed6e8d",
   "metadata": {},
   "outputs": [],
   "source": [
    "data['Postcode']= data['Postcode'].astype('object')"
   ]
  },
  {
   "cell_type": "code",
   "execution_count": 8,
   "id": "b843622e",
   "metadata": {},
   "outputs": [
    {
     "data": {
      "text/html": [
       "<div>\n",
       "<style scoped>\n",
       "    .dataframe tbody tr th:only-of-type {\n",
       "        vertical-align: middle;\n",
       "    }\n",
       "\n",
       "    .dataframe tbody tr th {\n",
       "        vertical-align: top;\n",
       "    }\n",
       "\n",
       "    .dataframe thead th {\n",
       "        text-align: right;\n",
       "    }\n",
       "</style>\n",
       "<table border=\"1\" class=\"dataframe\">\n",
       "  <thead>\n",
       "    <tr style=\"text-align: right;\">\n",
       "      <th></th>\n",
       "      <th>Suburb</th>\n",
       "      <th>Address</th>\n",
       "      <th>Rooms</th>\n",
       "      <th>Type</th>\n",
       "      <th>Price</th>\n",
       "      <th>Method</th>\n",
       "      <th>SellerG</th>\n",
       "      <th>Date</th>\n",
       "      <th>Distance</th>\n",
       "      <th>Postcode</th>\n",
       "      <th>Bedroom2</th>\n",
       "      <th>Bathroom</th>\n",
       "      <th>Car</th>\n",
       "      <th>Landsize</th>\n",
       "      <th>BuildingArea</th>\n",
       "      <th>YearBuilt</th>\n",
       "      <th>CouncilArea</th>\n",
       "      <th>Lattitude</th>\n",
       "      <th>Longtitude</th>\n",
       "      <th>Regionname</th>\n",
       "      <th>Propertycount</th>\n",
       "    </tr>\n",
       "  </thead>\n",
       "  <tbody>\n",
       "    <tr>\n",
       "      <th>29483</th>\n",
       "      <td>Fawkner Lot</td>\n",
       "      <td>1/3 Brian St</td>\n",
       "      <td>3</td>\n",
       "      <td>h</td>\n",
       "      <td>616000.0</td>\n",
       "      <td>SP</td>\n",
       "      <td>Brad</td>\n",
       "      <td>6/01/2018</td>\n",
       "      <td>NaN</td>\n",
       "      <td>NaN</td>\n",
       "      <td>NaN</td>\n",
       "      <td>NaN</td>\n",
       "      <td>NaN</td>\n",
       "      <td>NaN</td>\n",
       "      <td>NaN</td>\n",
       "      <td>NaN</td>\n",
       "      <td>NaN</td>\n",
       "      <td>NaN</td>\n",
       "      <td>NaN</td>\n",
       "      <td>NaN</td>\n",
       "      <td>NaN</td>\n",
       "    </tr>\n",
       "  </tbody>\n",
       "</table>\n",
       "</div>"
      ],
      "text/plain": [
       "            Suburb       Address  Rooms Type     Price Method SellerG  \\\n",
       "29483  Fawkner Lot  1/3 Brian St      3    h  616000.0     SP    Brad   \n",
       "\n",
       "            Date  Distance Postcode  Bedroom2  Bathroom  Car  Landsize  \\\n",
       "29483  6/01/2018       NaN      NaN       NaN       NaN  NaN       NaN   \n",
       "\n",
       "       BuildingArea  YearBuilt CouncilArea  Lattitude  Longtitude Regionname  \\\n",
       "29483           NaN        NaN         NaN        NaN         NaN        NaN   \n",
       "\n",
       "       Propertycount  \n",
       "29483            NaN  "
      ]
     },
     "execution_count": 8,
     "metadata": {},
     "output_type": "execute_result"
    }
   ],
   "source": [
    "data[data['Postcode'].isnull()] "
   ]
  },
  {
   "cell_type": "markdown",
   "id": "b177bc85",
   "metadata": {},
   "source": [
    "Replace null value of 1 row with mode value"
   ]
  },
  {
   "cell_type": "code",
   "execution_count": 9,
   "id": "daadd749",
   "metadata": {},
   "outputs": [],
   "source": [
    "data['Postcode'].fillna(data['Postcode'].mode()[0], inplace=True)"
   ]
  },
  {
   "cell_type": "markdown",
   "id": "2a3f7e62",
   "metadata": {},
   "source": [
    "<b> Car </b>\n",
    "\n",
    "Before doing this, we need to deal with Nan values. We see that 8,728 Nan Car rows which is appropriate to update to 0 since it is possible that some apartments/houses do not have carplots."
   ]
  },
  {
   "cell_type": "code",
   "execution_count": 10,
   "id": "c3cbe3cb",
   "metadata": {},
   "outputs": [],
   "source": [
    "data['Car'].isnull().sum()  # 8728 null Car row\n",
    "data['Car'] = data['Car'].fillna(0)"
   ]
  },
  {
   "cell_type": "markdown",
   "id": "4088fb43",
   "metadata": {},
   "source": [
    "<b> Bathrooms </b>\n",
    "\n",
    "8,226 Nan Bathroom rows. Checking the values "
   ]
  },
  {
   "cell_type": "code",
   "execution_count": 11,
   "id": "a37f3342",
   "metadata": {},
   "outputs": [
    {
     "data": {
      "text/plain": [
       "1.0     12969\n",
       "2.0     11064\n",
       "NaN      8226\n",
       "3.0      2181\n",
       "4.0       269\n",
       "5.0        77\n",
       "0.0        46\n",
       "6.0        16\n",
       "7.0         4\n",
       "8.0         3\n",
       "9.0         1\n",
       "12.0        1\n",
       "Name: Bathroom, dtype: int64"
      ]
     },
     "execution_count": 11,
     "metadata": {},
     "output_type": "execute_result"
    }
   ],
   "source": [
    "# Check number of bathrooms\n",
    "data['Bathroom'].value_counts(dropna=False)"
   ]
  },
  {
   "cell_type": "code",
   "execution_count": 12,
   "id": "baec6dc2",
   "metadata": {},
   "outputs": [
    {
     "data": {
      "text/plain": [
       "count    26631.000000\n",
       "mean         1.624798\n",
       "std          0.724212\n",
       "min          0.000000\n",
       "25%          1.000000\n",
       "50%          2.000000\n",
       "75%          2.000000\n",
       "max         12.000000\n",
       "Name: Bathroom, dtype: float64"
      ]
     },
     "execution_count": 12,
     "metadata": {},
     "output_type": "execute_result"
    }
   ],
   "source": [
    "data['Bathroom'].describe()"
   ]
  },
  {
   "cell_type": "markdown",
   "id": "c1c1e56e",
   "metadata": {},
   "source": [
    "46 houses with 0 bathrooms and 8226 houses with null info about number of bathrooms. \n",
    "\n",
    "While it is absolutely possible that older houses have communal bathrooms, 8226 houses with null value is more likely \n",
    "to be a case of genuine missing info which was not captured. \n",
    "\n",
    "As such, let's replace null Bathrooms with the mode value of 1 bathroom. "
   ]
  },
  {
   "cell_type": "code",
   "execution_count": 13,
   "id": "29aee502",
   "metadata": {},
   "outputs": [],
   "source": [
    "data['Bathroom'] = data['Bathroom'].fillna(1)"
   ]
  },
  {
   "cell_type": "markdown",
   "id": "0d897c4a",
   "metadata": {},
   "source": [
    "<b>Bedroom2 </b>"
   ]
  },
  {
   "cell_type": "code",
   "execution_count": 14,
   "id": "eb62ecca",
   "metadata": {},
   "outputs": [
    {
     "data": {
      "text/plain": [
       "<seaborn.axisgrid.FacetGrid at 0x2868fccd8b0>"
      ]
     },
     "execution_count": 14,
     "metadata": {},
     "output_type": "execute_result"
    },
    {
     "data": {
      "image/png": "[encoded data removed]",
      "text/plain": [
       "<Figure size 360x360 with 1 Axes>"
      ]
     },
     "metadata": {
      "needs_background": "light"
     },
     "output_type": "display_data"
    }
   ],
   "source": [
    "#Check relationship between Bedroom2 and Room\n",
    "sns.lmplot(data= data, x='Bedroom2', y='Rooms')"
   ]
  },
  {
   "cell_type": "markdown",
   "id": "0fce8fae",
   "metadata": {},
   "source": [
    "The scatterplot shows that there is a perfect linear relationship between Rooms and Bedroom2. \n",
    "\n",
    "Because of this relationship, Bedroom2 is a highly correlated feature with Rooms which might contribute to the instability of the model.\n",
    "As such, let's remove Bedroom2. \n"
   ]
  },
  {
   "cell_type": "code",
   "execution_count": 15,
   "id": "cae43938",
   "metadata": {},
   "outputs": [],
   "source": [
    "# Drop Bedroom2 & proceed to change Car and Bathroom from float64 to integer\n",
    "data= data.drop(['Bedroom2'], axis=1)\n",
    "data['Car']= data['Car'].astype('int64')\n",
    "data['Bathroom']= data['Bathroom'].astype('int64')"
   ]
  },
  {
   "cell_type": "markdown",
   "id": "bbe169c1",
   "metadata": {},
   "source": [
    "<b> YearBuilt </b> - Change YearBuilt from float64 to integer"
   ]
  },
  {
   "cell_type": "code",
   "execution_count": 17,
   "id": "f0e7b290",
   "metadata": {},
   "outputs": [
    {
     "data": {
      "text/plain": [
       "Suburb               0\n",
       "Address              0\n",
       "Rooms                0\n",
       "Type                 0\n",
       "Price             7610\n",
       "Method               0\n",
       "SellerG              0\n",
       "Date                 0\n",
       "Distance             1\n",
       "Postcode             0\n",
       "Bathroom             0\n",
       "Car                  0\n",
       "Landsize         11810\n",
       "BuildingArea     21115\n",
       "YearBuilt        19306\n",
       "CouncilArea          3\n",
       "Lattitude         7976\n",
       "Longtitude        7976\n",
       "Regionname           3\n",
       "Propertycount        3\n",
       "dtype: int64"
      ]
     },
     "execution_count": 17,
     "metadata": {},
     "output_type": "execute_result"
    }
   ],
   "source": [
    "data.isnull().sum()"
   ]
  },
  {
   "cell_type": "code",
   "execution_count": 18,
   "id": "b0921495",
   "metadata": {},
   "outputs": [
    {
     "data": {
      "text/plain": [
       "array([  nan, 1900., 2014., 2006., 1910., 2009., 1860., 1890., 1925.,\n",
       "       2005., 2010., 1880., 1985., 1970., 2013., 2012., 1920., 1950.,\n",
       "       1998., 1930., 2016., 1965., 1960., 1980., 2011., 2015., 1975.,\n",
       "       1993., 2003., 1995., 1996., 2000., 1990., 1915., 2004., 2008.,\n",
       "       1916., 1962., 1955., 1988., 1953., 1997., 2007., 1967., 1964.,\n",
       "       1889., 1888., 1934., 1966., 1935., 1969., 1940., 1938., 1887.,\n",
       "       1904., 1972., 1978., 1939., 1945., 1927., 1948., 1947., 1968.,\n",
       "       1958., 2017., 1999., 1992., 1961., 1928., 1977., 1919., 1976.,\n",
       "       2001., 1926., 1981., 1986., 1943., 1974., 1956., 1936., 1957.,\n",
       "       1987., 2002., 1952., 1994., 1949., 1905., 1912., 1924., 1885.,\n",
       "       1923., 1918., 1991., 1942., 1973., 2018., 1982., 2106., 1971.,\n",
       "       1963., 1931., 1897., 1906., 1883., 1989., 1983., 1937., 1903.,\n",
       "       1913., 1830., 1895., 1908., 1917., 1902., 1854., 1850., 1898.,\n",
       "       1941., 1951., 1946., 1984., 1901., 1921., 1929., 1959., 1979.,\n",
       "       1892., 1933., 1911., 1886., 1876., 1907., 1881., 1870., 1932.,\n",
       "       1875., 1863., 1893., 1856., 1877., 1894., 1857., 1914., 1868.,\n",
       "       1884., 1872., 1954., 1922., 1896., 1800., 1909., 1196., 1891.,\n",
       "       1862., 1871., 1899., 1820., 1869., 1855., 2019., 1879.])"
      ]
     },
     "execution_count": 18,
     "metadata": {},
     "output_type": "execute_result"
    }
   ],
   "source": [
    "data['YearBuilt'].unique()"
   ]
  },
  {
   "cell_type": "code",
   "execution_count": 19,
   "id": "0fbdcf76",
   "metadata": {},
   "outputs": [
    {
     "data": {
      "text/html": [
       "<div>\n",
       "<style scoped>\n",
       "    .dataframe tbody tr th:only-of-type {\n",
       "        vertical-align: middle;\n",
       "    }\n",
       "\n",
       "    .dataframe tbody tr th {\n",
       "        vertical-align: top;\n",
       "    }\n",
       "\n",
       "    .dataframe thead th {\n",
       "        text-align: right;\n",
       "    }\n",
       "</style>\n",
       "<table border=\"1\" class=\"dataframe\">\n",
       "  <thead>\n",
       "    <tr style=\"text-align: right;\">\n",
       "      <th></th>\n",
       "      <th>Suburb</th>\n",
       "      <th>Address</th>\n",
       "      <th>Rooms</th>\n",
       "      <th>Type</th>\n",
       "      <th>Price</th>\n",
       "      <th>Method</th>\n",
       "      <th>SellerG</th>\n",
       "      <th>Date</th>\n",
       "      <th>Distance</th>\n",
       "      <th>Postcode</th>\n",
       "      <th>Bathroom</th>\n",
       "      <th>Car</th>\n",
       "      <th>Landsize</th>\n",
       "      <th>BuildingArea</th>\n",
       "      <th>YearBuilt</th>\n",
       "      <th>CouncilArea</th>\n",
       "      <th>Lattitude</th>\n",
       "      <th>Longtitude</th>\n",
       "      <th>Regionname</th>\n",
       "      <th>Propertycount</th>\n",
       "    </tr>\n",
       "  </thead>\n",
       "  <tbody>\n",
       "    <tr>\n",
       "      <th>2453</th>\n",
       "      <td>Bulleen</td>\n",
       "      <td>3 Maringa St</td>\n",
       "      <td>4</td>\n",
       "      <td>h</td>\n",
       "      <td>NaN</td>\n",
       "      <td>SP</td>\n",
       "      <td>Ray</td>\n",
       "      <td>7/11/2016</td>\n",
       "      <td>11.8</td>\n",
       "      <td>3105.0</td>\n",
       "      <td>2</td>\n",
       "      <td>2</td>\n",
       "      <td>729.0</td>\n",
       "      <td>255.0</td>\n",
       "      <td>2106.0</td>\n",
       "      <td>Manningham City Council</td>\n",
       "      <td>-37.7637</td>\n",
       "      <td>145.0881</td>\n",
       "      <td>Eastern Metropolitan</td>\n",
       "      <td>4480.0</td>\n",
       "    </tr>\n",
       "  </tbody>\n",
       "</table>\n",
       "</div>"
      ],
      "text/plain": [
       "       Suburb       Address  Rooms Type  Price Method SellerG       Date  \\\n",
       "2453  Bulleen  3 Maringa St      4    h    NaN     SP     Ray  7/11/2016   \n",
       "\n",
       "      Distance  Postcode  Bathroom  Car  Landsize  BuildingArea  YearBuilt  \\\n",
       "2453      11.8    3105.0         2    2     729.0         255.0     2106.0   \n",
       "\n",
       "                  CouncilArea  Lattitude  Longtitude            Regionname  \\\n",
       "2453  Manningham City Council   -37.7637    145.0881  Eastern Metropolitan   \n",
       "\n",
       "      Propertycount  \n",
       "2453         4480.0  "
      ]
     },
     "execution_count": 19,
     "metadata": {},
     "output_type": "execute_result"
    }
   ],
   "source": [
    "data[data['YearBuilt']>2020] "
   ]
  },
  {
   "cell_type": "markdown",
   "id": "ab5703b1",
   "metadata": {},
   "source": [
    "There is 1 row with value 2106. Assume that this is an error and replace with 2016. "
   ]
  },
  {
   "cell_type": "code",
   "execution_count": 20,
   "id": "21b161b7",
   "metadata": {},
   "outputs": [],
   "source": [
    "data['YearBuilt'] = data['YearBuilt'].replace(2106, 2016)"
   ]
  },
  {
   "cell_type": "markdown",
   "id": "00c64f38",
   "metadata": {},
   "source": [
    "As for the 19,306 nan rows, let's fill them with median values of YearBuilt instead of mean values because mean values are more sensitive to outliers. \n",
    "\n",
    "Then proceed to change the type to <i>int64"
   ]
  },
  {
   "cell_type": "code",
   "execution_count": 21,
   "id": "bec2a590",
   "metadata": {},
   "outputs": [],
   "source": [
    "data['YearBuilt'].fillna(data['YearBuilt'].median(), inplace=True)\n",
    "data['YearBuilt']= data['YearBuilt'].astype('int64')"
   ]
  },
  {
   "cell_type": "code",
   "execution_count": 22,
   "id": "0a4dd1e9",
   "metadata": {},
   "outputs": [
    {
     "data": {
      "text/plain": [
       "Suburb            0.00\n",
       "Address           0.00\n",
       "Rooms             0.00\n",
       "Type              0.00\n",
       "Price            21.83\n",
       "Method            0.00\n",
       "SellerG           0.00\n",
       "Date              0.00\n",
       "Distance          0.00\n",
       "Postcode          0.00\n",
       "Bathroom          0.00\n",
       "Car               0.00\n",
       "Landsize         33.88\n",
       "BuildingArea     60.58\n",
       "YearBuilt         0.00\n",
       "CouncilArea       0.01\n",
       "Lattitude        22.88\n",
       "Longtitude       22.88\n",
       "Regionname        0.01\n",
       "Propertycount     0.01\n",
       "dtype: float64"
      ]
     },
     "execution_count": 22,
     "metadata": {},
     "output_type": "execute_result"
    }
   ],
   "source": [
    "## Check the percentage of null rows remaining\n",
    "round(100*(data.isnull().sum()/len(data.index)), 2)"
   ]
  },
  {
   "cell_type": "markdown",
   "id": "16d54ea2",
   "metadata": {},
   "source": [
    "As the null rows in BuildingArea constitute <b>60% of the rows </b> , deleting them will result in a loss of a lot of data. \n",
    "I will impute it with median value. But before imputing, let's check for outliers which might affect the median value. "
   ]
  },
  {
   "cell_type": "code",
   "execution_count": 23,
   "id": "3d5689a8",
   "metadata": {},
   "outputs": [
    {
     "data": {
      "text/plain": [
       "count    13742.00000\n",
       "mean       160.25640\n",
       "std        401.26706\n",
       "min          0.00000\n",
       "25%        102.00000\n",
       "50%        136.00000\n",
       "75%        188.00000\n",
       "max      44515.00000\n",
       "Name: BuildingArea, dtype: float64"
      ]
     },
     "execution_count": 23,
     "metadata": {},
     "output_type": "execute_result"
    }
   ],
   "source": [
    "data['BuildingArea'].describe()"
   ]
  },
  {
   "cell_type": "code",
   "execution_count": 24,
   "id": "3df66771",
   "metadata": {},
   "outputs": [
    {
     "data": {
      "text/plain": [
       "<AxesSubplot:ylabel='BuildingArea'>"
      ]
     },
     "execution_count": 24,
     "metadata": {},
     "output_type": "execute_result"
    },
    {
     "data": {
      "image/png": "[encoded data removed]",
      "text/plain": [
       "<Figure size 432x288 with 1 Axes>"
      ]
     },
     "metadata": {
      "needs_background": "light"
     },
     "output_type": "display_data"
    }
   ],
   "source": [
    "sns.boxplot(data = data, y = 'BuildingArea')"
   ]
  },
  {
   "cell_type": "markdown",
   "id": "eb67bd0b",
   "metadata": {},
   "source": [
    "Boxplot shows an outlier with a building area of more than 40000 squared meters."
   ]
  },
  {
   "cell_type": "code",
   "execution_count": 25,
   "id": "7bb623a8",
   "metadata": {},
   "outputs": [
    {
     "data": {
      "text/html": [
       "<div>\n",
       "<style scoped>\n",
       "    .dataframe tbody tr th:only-of-type {\n",
       "        vertical-align: middle;\n",
       "    }\n",
       "\n",
       "    .dataframe tbody tr th {\n",
       "        vertical-align: top;\n",
       "    }\n",
       "\n",
       "    .dataframe thead th {\n",
       "        text-align: right;\n",
       "    }\n",
       "</style>\n",
       "<table border=\"1\" class=\"dataframe\">\n",
       "  <thead>\n",
       "    <tr style=\"text-align: right;\">\n",
       "      <th></th>\n",
       "      <th>Suburb</th>\n",
       "      <th>Address</th>\n",
       "      <th>Rooms</th>\n",
       "      <th>Type</th>\n",
       "      <th>Price</th>\n",
       "      <th>Method</th>\n",
       "      <th>SellerG</th>\n",
       "      <th>Date</th>\n",
       "      <th>Distance</th>\n",
       "      <th>Postcode</th>\n",
       "      <th>Bathroom</th>\n",
       "      <th>Car</th>\n",
       "      <th>Landsize</th>\n",
       "      <th>BuildingArea</th>\n",
       "      <th>YearBuilt</th>\n",
       "      <th>CouncilArea</th>\n",
       "      <th>Lattitude</th>\n",
       "      <th>Longtitude</th>\n",
       "      <th>Regionname</th>\n",
       "      <th>Propertycount</th>\n",
       "    </tr>\n",
       "  </thead>\n",
       "  <tbody>\n",
       "    <tr>\n",
       "      <th>22632</th>\n",
       "      <td>New Gisborne</td>\n",
       "      <td>71 Hamilton Rd</td>\n",
       "      <td>5</td>\n",
       "      <td>h</td>\n",
       "      <td>1355000.0</td>\n",
       "      <td>S</td>\n",
       "      <td>Raine</td>\n",
       "      <td>23/09/2017</td>\n",
       "      <td>48.1</td>\n",
       "      <td>3438.0</td>\n",
       "      <td>3</td>\n",
       "      <td>5</td>\n",
       "      <td>44500.0</td>\n",
       "      <td>44515.0</td>\n",
       "      <td>1970</td>\n",
       "      <td>Macedon Ranges Shire Council</td>\n",
       "      <td>-37.45392</td>\n",
       "      <td>144.58864</td>\n",
       "      <td>Northern Victoria</td>\n",
       "      <td>849.0</td>\n",
       "    </tr>\n",
       "  </tbody>\n",
       "</table>\n",
       "</div>"
      ],
      "text/plain": [
       "             Suburb         Address  Rooms Type      Price Method SellerG  \\\n",
       "22632  New Gisborne  71 Hamilton Rd      5    h  1355000.0      S   Raine   \n",
       "\n",
       "             Date  Distance  Postcode  Bathroom  Car  Landsize  BuildingArea  \\\n",
       "22632  23/09/2017      48.1    3438.0         3    5   44500.0       44515.0   \n",
       "\n",
       "       YearBuilt                   CouncilArea  Lattitude  Longtitude  \\\n",
       "22632       1970  Macedon Ranges Shire Council  -37.45392   144.58864   \n",
       "\n",
       "              Regionname  Propertycount  \n",
       "22632  Northern Victoria          849.0  "
      ]
     },
     "execution_count": 25,
     "metadata": {},
     "output_type": "execute_result"
    }
   ],
   "source": [
    "data.loc[data['BuildingArea']>40000]"
   ]
  },
  {
   "cell_type": "markdown",
   "id": "38dd6f29",
   "metadata": {},
   "source": [
    "Building Area is bigger than Landsize. This looks like an error. And the average BuildingArea of houses in Suburb = 'New Gisborne' is 136.\n",
    "\n",
    "Given that this house has 5 rooms, I'll replace the BuildingArea to 450."
   ]
  },
  {
   "cell_type": "code",
   "execution_count": 26,
   "id": "2584c4f7",
   "metadata": {},
   "outputs": [],
   "source": [
    "data['BuildingArea'] = data['BuildingArea'].replace(44515.0, 450.0)"
   ]
  },
  {
   "cell_type": "code",
   "execution_count": 27,
   "id": "cc3c8531",
   "metadata": {},
   "outputs": [
    {
     "data": {
      "text/plain": [
       "count    13742.000000\n",
       "mean       157.049807\n",
       "std        133.558435\n",
       "min          0.000000\n",
       "25%        102.000000\n",
       "50%        136.000000\n",
       "75%        188.000000\n",
       "max       6791.000000\n",
       "Name: BuildingArea, dtype: float64"
      ]
     },
     "execution_count": 27,
     "metadata": {},
     "output_type": "execute_result"
    }
   ],
   "source": [
    "data['BuildingArea'].describe() \n",
    "# The mean value has changed to 157 while the median remains 136. "
   ]
  },
  {
   "cell_type": "code",
   "execution_count": 28,
   "id": "98560584",
   "metadata": {},
   "outputs": [
    {
     "data": {
      "text/plain": [
       "<AxesSubplot:ylabel='Landsize'>"
      ]
     },
     "execution_count": 28,
     "metadata": {},
     "output_type": "execute_result"
    },
    {
     "data": {
      "image/png": "[encoded data removed]",
      "text/plain": [
       "<Figure size 432x288 with 1 Axes>"
      ]
     },
     "metadata": {
      "needs_background": "light"
     },
     "output_type": "display_data"
    }
   ],
   "source": [
    "sns.boxplot(data = data, y = 'Landsize')"
   ]
  },
  {
   "cell_type": "markdown",
   "id": "ee30cf91",
   "metadata": {},
   "source": [
    "There seems to be an outlier property with landsize >400000. "
   ]
  },
  {
   "cell_type": "code",
   "execution_count": 29,
   "id": "43a77d54",
   "metadata": {},
   "outputs": [
    {
     "data": {
      "text/html": [
       "<div>\n",
       "<style scoped>\n",
       "    .dataframe tbody tr th:only-of-type {\n",
       "        vertical-align: middle;\n",
       "    }\n",
       "\n",
       "    .dataframe tbody tr th {\n",
       "        vertical-align: top;\n",
       "    }\n",
       "\n",
       "    .dataframe thead th {\n",
       "        text-align: right;\n",
       "    }\n",
       "</style>\n",
       "<table border=\"1\" class=\"dataframe\">\n",
       "  <thead>\n",
       "    <tr style=\"text-align: right;\">\n",
       "      <th></th>\n",
       "      <th>Suburb</th>\n",
       "      <th>Address</th>\n",
       "      <th>Rooms</th>\n",
       "      <th>Type</th>\n",
       "      <th>Price</th>\n",
       "      <th>Method</th>\n",
       "      <th>SellerG</th>\n",
       "      <th>Date</th>\n",
       "      <th>Distance</th>\n",
       "      <th>Postcode</th>\n",
       "      <th>Bathroom</th>\n",
       "      <th>Car</th>\n",
       "      <th>Landsize</th>\n",
       "      <th>BuildingArea</th>\n",
       "      <th>YearBuilt</th>\n",
       "      <th>CouncilArea</th>\n",
       "      <th>Lattitude</th>\n",
       "      <th>Longtitude</th>\n",
       "      <th>Regionname</th>\n",
       "      <th>Propertycount</th>\n",
       "    </tr>\n",
       "  </thead>\n",
       "  <tbody>\n",
       "    <tr>\n",
       "      <th>18036</th>\n",
       "      <td>Fitzroy</td>\n",
       "      <td>389 Gore St</td>\n",
       "      <td>3</td>\n",
       "      <td>h</td>\n",
       "      <td>2700000.0</td>\n",
       "      <td>VB</td>\n",
       "      <td>Kay</td>\n",
       "      <td>12/08/2017</td>\n",
       "      <td>2.1</td>\n",
       "      <td>3065.0</td>\n",
       "      <td>3</td>\n",
       "      <td>1</td>\n",
       "      <td>433014.0</td>\n",
       "      <td>NaN</td>\n",
       "      <td>1970</td>\n",
       "      <td>Yarra City Council</td>\n",
       "      <td>-37.79751</td>\n",
       "      <td>144.98309</td>\n",
       "      <td>Northern Metropolitan</td>\n",
       "      <td>5825.0</td>\n",
       "    </tr>\n",
       "  </tbody>\n",
       "</table>\n",
       "</div>"
      ],
      "text/plain": [
       "        Suburb      Address  Rooms Type      Price Method SellerG        Date  \\\n",
       "18036  Fitzroy  389 Gore St      3    h  2700000.0     VB     Kay  12/08/2017   \n",
       "\n",
       "       Distance  Postcode  Bathroom  Car  Landsize  BuildingArea  YearBuilt  \\\n",
       "18036       2.1    3065.0         3    1  433014.0           NaN       1970   \n",
       "\n",
       "              CouncilArea  Lattitude  Longtitude             Regionname  \\\n",
       "18036  Yarra City Council  -37.79751   144.98309  Northern Metropolitan   \n",
       "\n",
       "       Propertycount  \n",
       "18036         5825.0  "
      ]
     },
     "execution_count": 29,
     "metadata": {},
     "output_type": "execute_result"
    }
   ],
   "source": [
    "data.loc[data['Landsize']>400000]"
   ]
  },
  {
   "cell_type": "markdown",
   "id": "6b61b8d0",
   "metadata": {},
   "source": [
    "We see that this coincides with 1 row in Yarra City Council with 3 rooms, 1 car lot and buildingarea 136.\n",
    "We evaluate all properties in Yarra City Council and see that the mean landsize is 568 and median 521. \n",
    "Replace the Landsize of this outlier row with median value of 521. "
   ]
  },
  {
   "cell_type": "code",
   "execution_count": 30,
   "id": "b37bd04a",
   "metadata": {},
   "outputs": [
    {
     "data": {
      "text/html": [
       "<div>\n",
       "<style scoped>\n",
       "    .dataframe tbody tr th:only-of-type {\n",
       "        vertical-align: middle;\n",
       "    }\n",
       "\n",
       "    .dataframe tbody tr th {\n",
       "        vertical-align: top;\n",
       "    }\n",
       "\n",
       "    .dataframe thead th {\n",
       "        text-align: right;\n",
       "    }\n",
       "</style>\n",
       "<table border=\"1\" class=\"dataframe\">\n",
       "  <thead>\n",
       "    <tr style=\"text-align: right;\">\n",
       "      <th></th>\n",
       "      <th>Suburb</th>\n",
       "      <th>Address</th>\n",
       "      <th>Rooms</th>\n",
       "      <th>Type</th>\n",
       "      <th>Price</th>\n",
       "      <th>Method</th>\n",
       "      <th>SellerG</th>\n",
       "      <th>Date</th>\n",
       "      <th>Distance</th>\n",
       "      <th>Postcode</th>\n",
       "      <th>Bathroom</th>\n",
       "      <th>Car</th>\n",
       "      <th>Landsize</th>\n",
       "      <th>BuildingArea</th>\n",
       "      <th>YearBuilt</th>\n",
       "      <th>CouncilArea</th>\n",
       "      <th>Lattitude</th>\n",
       "      <th>Longtitude</th>\n",
       "      <th>Regionname</th>\n",
       "      <th>Propertycount</th>\n",
       "    </tr>\n",
       "  </thead>\n",
       "  <tbody>\n",
       "    <tr>\n",
       "      <th>0</th>\n",
       "      <td>Abbotsford</td>\n",
       "      <td>68 Studley St</td>\n",
       "      <td>2</td>\n",
       "      <td>h</td>\n",
       "      <td>NaN</td>\n",
       "      <td>SS</td>\n",
       "      <td>Jellis</td>\n",
       "      <td>3/09/2016</td>\n",
       "      <td>2.5</td>\n",
       "      <td>3067.0</td>\n",
       "      <td>1</td>\n",
       "      <td>1</td>\n",
       "      <td>126.0</td>\n",
       "      <td>NaN</td>\n",
       "      <td>1970</td>\n",
       "      <td>Yarra City Council</td>\n",
       "      <td>-37.80140</td>\n",
       "      <td>144.99580</td>\n",
       "      <td>Northern Metropolitan</td>\n",
       "      <td>4019.0</td>\n",
       "    </tr>\n",
       "    <tr>\n",
       "      <th>1</th>\n",
       "      <td>Abbotsford</td>\n",
       "      <td>85 Turner St</td>\n",
       "      <td>2</td>\n",
       "      <td>h</td>\n",
       "      <td>1480000.0</td>\n",
       "      <td>S</td>\n",
       "      <td>Biggin</td>\n",
       "      <td>3/12/2016</td>\n",
       "      <td>2.5</td>\n",
       "      <td>3067.0</td>\n",
       "      <td>1</td>\n",
       "      <td>1</td>\n",
       "      <td>202.0</td>\n",
       "      <td>NaN</td>\n",
       "      <td>1970</td>\n",
       "      <td>Yarra City Council</td>\n",
       "      <td>-37.79960</td>\n",
       "      <td>144.99840</td>\n",
       "      <td>Northern Metropolitan</td>\n",
       "      <td>4019.0</td>\n",
       "    </tr>\n",
       "    <tr>\n",
       "      <th>2</th>\n",
       "      <td>Abbotsford</td>\n",
       "      <td>25 Bloomburg St</td>\n",
       "      <td>2</td>\n",
       "      <td>h</td>\n",
       "      <td>1035000.0</td>\n",
       "      <td>S</td>\n",
       "      <td>Biggin</td>\n",
       "      <td>4/02/2016</td>\n",
       "      <td>2.5</td>\n",
       "      <td>3067.0</td>\n",
       "      <td>1</td>\n",
       "      <td>0</td>\n",
       "      <td>156.0</td>\n",
       "      <td>79.0</td>\n",
       "      <td>1900</td>\n",
       "      <td>Yarra City Council</td>\n",
       "      <td>-37.80790</td>\n",
       "      <td>144.99340</td>\n",
       "      <td>Northern Metropolitan</td>\n",
       "      <td>4019.0</td>\n",
       "    </tr>\n",
       "    <tr>\n",
       "      <th>3</th>\n",
       "      <td>Abbotsford</td>\n",
       "      <td>18/659 Victoria St</td>\n",
       "      <td>3</td>\n",
       "      <td>u</td>\n",
       "      <td>NaN</td>\n",
       "      <td>VB</td>\n",
       "      <td>Rounds</td>\n",
       "      <td>4/02/2016</td>\n",
       "      <td>2.5</td>\n",
       "      <td>3067.0</td>\n",
       "      <td>2</td>\n",
       "      <td>1</td>\n",
       "      <td>0.0</td>\n",
       "      <td>NaN</td>\n",
       "      <td>1970</td>\n",
       "      <td>Yarra City Council</td>\n",
       "      <td>-37.81140</td>\n",
       "      <td>145.01160</td>\n",
       "      <td>Northern Metropolitan</td>\n",
       "      <td>4019.0</td>\n",
       "    </tr>\n",
       "    <tr>\n",
       "      <th>4</th>\n",
       "      <td>Abbotsford</td>\n",
       "      <td>5 Charles St</td>\n",
       "      <td>3</td>\n",
       "      <td>h</td>\n",
       "      <td>1465000.0</td>\n",
       "      <td>SP</td>\n",
       "      <td>Biggin</td>\n",
       "      <td>4/03/2017</td>\n",
       "      <td>2.5</td>\n",
       "      <td>3067.0</td>\n",
       "      <td>2</td>\n",
       "      <td>0</td>\n",
       "      <td>134.0</td>\n",
       "      <td>150.0</td>\n",
       "      <td>1900</td>\n",
       "      <td>Yarra City Council</td>\n",
       "      <td>-37.80930</td>\n",
       "      <td>144.99440</td>\n",
       "      <td>Northern Metropolitan</td>\n",
       "      <td>4019.0</td>\n",
       "    </tr>\n",
       "    <tr>\n",
       "      <th>...</th>\n",
       "      <td>...</td>\n",
       "      <td>...</td>\n",
       "      <td>...</td>\n",
       "      <td>...</td>\n",
       "      <td>...</td>\n",
       "      <td>...</td>\n",
       "      <td>...</td>\n",
       "      <td>...</td>\n",
       "      <td>...</td>\n",
       "      <td>...</td>\n",
       "      <td>...</td>\n",
       "      <td>...</td>\n",
       "      <td>...</td>\n",
       "      <td>...</td>\n",
       "      <td>...</td>\n",
       "      <td>...</td>\n",
       "      <td>...</td>\n",
       "      <td>...</td>\n",
       "      <td>...</td>\n",
       "      <td>...</td>\n",
       "    </tr>\n",
       "    <tr>\n",
       "      <th>34666</th>\n",
       "      <td>Richmond</td>\n",
       "      <td>109 Lord St</td>\n",
       "      <td>2</td>\n",
       "      <td>h</td>\n",
       "      <td>925000.0</td>\n",
       "      <td>PI</td>\n",
       "      <td>hockingstuart</td>\n",
       "      <td>24/02/2018</td>\n",
       "      <td>2.4</td>\n",
       "      <td>3121.0</td>\n",
       "      <td>1</td>\n",
       "      <td>0</td>\n",
       "      <td>147.0</td>\n",
       "      <td>NaN</td>\n",
       "      <td>1970</td>\n",
       "      <td>Yarra City Council</td>\n",
       "      <td>-37.82364</td>\n",
       "      <td>145.00456</td>\n",
       "      <td>Northern Metropolitan</td>\n",
       "      <td>14949.0</td>\n",
       "    </tr>\n",
       "    <tr>\n",
       "      <th>34667</th>\n",
       "      <td>Richmond</td>\n",
       "      <td>67B Lord St</td>\n",
       "      <td>2</td>\n",
       "      <td>u</td>\n",
       "      <td>NaN</td>\n",
       "      <td>S</td>\n",
       "      <td>Marshall</td>\n",
       "      <td>24/02/2018</td>\n",
       "      <td>2.4</td>\n",
       "      <td>3121.0</td>\n",
       "      <td>1</td>\n",
       "      <td>0</td>\n",
       "      <td>94.0</td>\n",
       "      <td>94.0</td>\n",
       "      <td>2011</td>\n",
       "      <td>Yarra City Council</td>\n",
       "      <td>-37.82202</td>\n",
       "      <td>145.00483</td>\n",
       "      <td>Northern Metropolitan</td>\n",
       "      <td>14949.0</td>\n",
       "    </tr>\n",
       "    <tr>\n",
       "      <th>34668</th>\n",
       "      <td>Richmond</td>\n",
       "      <td>108/381 Punt Rd</td>\n",
       "      <td>2</td>\n",
       "      <td>u</td>\n",
       "      <td>770000.0</td>\n",
       "      <td>VB</td>\n",
       "      <td>Jellis</td>\n",
       "      <td>24/02/2018</td>\n",
       "      <td>2.4</td>\n",
       "      <td>3121.0</td>\n",
       "      <td>1</td>\n",
       "      <td>0</td>\n",
       "      <td>NaN</td>\n",
       "      <td>NaN</td>\n",
       "      <td>1970</td>\n",
       "      <td>Yarra City Council</td>\n",
       "      <td>NaN</td>\n",
       "      <td>NaN</td>\n",
       "      <td>Northern Metropolitan</td>\n",
       "      <td>14949.0</td>\n",
       "    </tr>\n",
       "    <tr>\n",
       "      <th>34669</th>\n",
       "      <td>Richmond</td>\n",
       "      <td>29/24 Tanner St</td>\n",
       "      <td>2</td>\n",
       "      <td>u</td>\n",
       "      <td>969000.0</td>\n",
       "      <td>S</td>\n",
       "      <td>Jellis</td>\n",
       "      <td>24/02/2018</td>\n",
       "      <td>2.4</td>\n",
       "      <td>3121.0</td>\n",
       "      <td>1</td>\n",
       "      <td>0</td>\n",
       "      <td>NaN</td>\n",
       "      <td>NaN</td>\n",
       "      <td>1970</td>\n",
       "      <td>Yarra City Council</td>\n",
       "      <td>NaN</td>\n",
       "      <td>NaN</td>\n",
       "      <td>Northern Metropolitan</td>\n",
       "      <td>14949.0</td>\n",
       "    </tr>\n",
       "    <tr>\n",
       "      <th>34670</th>\n",
       "      <td>Richmond</td>\n",
       "      <td>12 Waltham St</td>\n",
       "      <td>3</td>\n",
       "      <td>h</td>\n",
       "      <td>1930000.0</td>\n",
       "      <td>SP</td>\n",
       "      <td>Jellis</td>\n",
       "      <td>24/02/2018</td>\n",
       "      <td>2.4</td>\n",
       "      <td>3121.0</td>\n",
       "      <td>2</td>\n",
       "      <td>1</td>\n",
       "      <td>248.0</td>\n",
       "      <td>141.0</td>\n",
       "      <td>1930</td>\n",
       "      <td>Yarra City Council</td>\n",
       "      <td>-37.81952</td>\n",
       "      <td>144.99673</td>\n",
       "      <td>Northern Metropolitan</td>\n",
       "      <td>14949.0</td>\n",
       "    </tr>\n",
       "  </tbody>\n",
       "</table>\n",
       "<p>1186 rows × 20 columns</p>\n",
       "</div>"
      ],
      "text/plain": [
       "           Suburb             Address  Rooms Type      Price Method  \\\n",
       "0      Abbotsford       68 Studley St      2    h        NaN     SS   \n",
       "1      Abbotsford        85 Turner St      2    h  1480000.0      S   \n",
       "2      Abbotsford     25 Bloomburg St      2    h  1035000.0      S   \n",
       "3      Abbotsford  18/659 Victoria St      3    u        NaN     VB   \n",
       "4      Abbotsford        5 Charles St      3    h  1465000.0     SP   \n",
       "...           ...                 ...    ...  ...        ...    ...   \n",
       "34666    Richmond         109 Lord St      2    h   925000.0     PI   \n",
       "34667    Richmond         67B Lord St      2    u        NaN      S   \n",
       "34668    Richmond     108/381 Punt Rd      2    u   770000.0     VB   \n",
       "34669    Richmond     29/24 Tanner St      2    u   969000.0      S   \n",
       "34670    Richmond       12 Waltham St      3    h  1930000.0     SP   \n",
       "\n",
       "             SellerG        Date  Distance  Postcode  Bathroom  Car  Landsize  \\\n",
       "0             Jellis   3/09/2016       2.5    3067.0         1    1     126.0   \n",
       "1             Biggin   3/12/2016       2.5    3067.0         1    1     202.0   \n",
       "2             Biggin   4/02/2016       2.5    3067.0         1    0     156.0   \n",
       "3             Rounds   4/02/2016       2.5    3067.0         2    1       0.0   \n",
       "4             Biggin   4/03/2017       2.5    3067.0         2    0     134.0   \n",
       "...              ...         ...       ...       ...       ...  ...       ...   \n",
       "34666  hockingstuart  24/02/2018       2.4    3121.0         1    0     147.0   \n",
       "34667       Marshall  24/02/2018       2.4    3121.0         1    0      94.0   \n",
       "34668         Jellis  24/02/2018       2.4    3121.0         1    0       NaN   \n",
       "34669         Jellis  24/02/2018       2.4    3121.0         1    0       NaN   \n",
       "34670         Jellis  24/02/2018       2.4    3121.0         2    1     248.0   \n",
       "\n",
       "       BuildingArea  YearBuilt         CouncilArea  Lattitude  Longtitude  \\\n",
       "0               NaN       1970  Yarra City Council  -37.80140   144.99580   \n",
       "1               NaN       1970  Yarra City Council  -37.79960   144.99840   \n",
       "2              79.0       1900  Yarra City Council  -37.80790   144.99340   \n",
       "3               NaN       1970  Yarra City Council  -37.81140   145.01160   \n",
       "4             150.0       1900  Yarra City Council  -37.80930   144.99440   \n",
       "...             ...        ...                 ...        ...         ...   \n",
       "34666           NaN       1970  Yarra City Council  -37.82364   145.00456   \n",
       "34667          94.0       2011  Yarra City Council  -37.82202   145.00483   \n",
       "34668           NaN       1970  Yarra City Council        NaN         NaN   \n",
       "34669           NaN       1970  Yarra City Council        NaN         NaN   \n",
       "34670         141.0       1930  Yarra City Council  -37.81952   144.99673   \n",
       "\n",
       "                  Regionname  Propertycount  \n",
       "0      Northern Metropolitan         4019.0  \n",
       "1      Northern Metropolitan         4019.0  \n",
       "2      Northern Metropolitan         4019.0  \n",
       "3      Northern Metropolitan         4019.0  \n",
       "4      Northern Metropolitan         4019.0  \n",
       "...                      ...            ...  \n",
       "34666  Northern Metropolitan        14949.0  \n",
       "34667  Northern Metropolitan        14949.0  \n",
       "34668  Northern Metropolitan        14949.0  \n",
       "34669  Northern Metropolitan        14949.0  \n",
       "34670  Northern Metropolitan        14949.0  \n",
       "\n",
       "[1186 rows x 20 columns]"
      ]
     },
     "execution_count": 30,
     "metadata": {},
     "output_type": "execute_result"
    }
   ],
   "source": [
    "data.loc[data['CouncilArea']=='Yarra City Council']"
   ]
  },
  {
   "cell_type": "code",
   "execution_count": 31,
   "id": "65a61105",
   "metadata": {},
   "outputs": [],
   "source": [
    "data['Landsize'] = data['Landsize'].replace(433014.0, 521.0)"
   ]
  },
  {
   "cell_type": "markdown",
   "id": "68cc5e73",
   "metadata": {},
   "source": [
    "<b> BuildingArea, Landsize and Distance </b>\n",
    "\n",
    "Similar to how <b>YearBuilt </b> was handled, I will replace missing values for these fields with median() value."
   ]
  },
  {
   "cell_type": "code",
   "execution_count": 32,
   "id": "d193161a",
   "metadata": {},
   "outputs": [],
   "source": [
    "data['BuildingArea'].fillna(data['BuildingArea'].median(), inplace=True)\n",
    "data['Landsize'].fillna(data['Landsize'].median(), inplace=True)\n",
    "data['Distance'].fillna(data['Distance'].median(), inplace=True)"
   ]
  },
  {
   "cell_type": "markdown",
   "id": "a16190a7",
   "metadata": {},
   "source": [
    "<b> Missing values for categorical fields  </b>"
   ]
  },
  {
   "cell_type": "code",
   "execution_count": 33,
   "id": "54fdabd0",
   "metadata": {},
   "outputs": [
    {
     "data": {
      "text/plain": [
       "Suburb         0\n",
       "Address        0\n",
       "Type           0\n",
       "Method         0\n",
       "SellerG        0\n",
       "Date           0\n",
       "CouncilArea    3\n",
       "Regionname     3\n",
       "dtype: int64"
      ]
     },
     "execution_count": 33,
     "metadata": {},
     "output_type": "execute_result"
    }
   ],
   "source": [
    "cat_col = data.select_dtypes(exclude=['int64','float64'])\n",
    "cat_col.isnull().sum()"
   ]
  },
  {
   "cell_type": "markdown",
   "id": "b7cd3d71",
   "metadata": {},
   "source": [
    "<b>CouncilArea & Regionname </b> have 3 null values each and they happen to be the same 3 rows. Let's drop these 3 rows. "
   ]
  },
  {
   "cell_type": "code",
   "execution_count": 34,
   "id": "6ed40439",
   "metadata": {},
   "outputs": [
    {
     "data": {
      "text/html": [
       "<div>\n",
       "<style scoped>\n",
       "    .dataframe tbody tr th:only-of-type {\n",
       "        vertical-align: middle;\n",
       "    }\n",
       "\n",
       "    .dataframe tbody tr th {\n",
       "        vertical-align: top;\n",
       "    }\n",
       "\n",
       "    .dataframe thead th {\n",
       "        text-align: right;\n",
       "    }\n",
       "</style>\n",
       "<table border=\"1\" class=\"dataframe\">\n",
       "  <thead>\n",
       "    <tr style=\"text-align: right;\">\n",
       "      <th></th>\n",
       "      <th>Suburb</th>\n",
       "      <th>Address</th>\n",
       "      <th>Rooms</th>\n",
       "      <th>Type</th>\n",
       "      <th>Price</th>\n",
       "      <th>Method</th>\n",
       "      <th>SellerG</th>\n",
       "      <th>Date</th>\n",
       "      <th>Distance</th>\n",
       "      <th>Postcode</th>\n",
       "      <th>Bathroom</th>\n",
       "      <th>Car</th>\n",
       "      <th>Landsize</th>\n",
       "      <th>BuildingArea</th>\n",
       "      <th>YearBuilt</th>\n",
       "      <th>CouncilArea</th>\n",
       "      <th>Lattitude</th>\n",
       "      <th>Longtitude</th>\n",
       "      <th>Regionname</th>\n",
       "      <th>Propertycount</th>\n",
       "    </tr>\n",
       "  </thead>\n",
       "  <tbody>\n",
       "    <tr>\n",
       "      <th>18523</th>\n",
       "      <td>Footscray</td>\n",
       "      <td>2/16 Stafford St</td>\n",
       "      <td>2</td>\n",
       "      <td>u</td>\n",
       "      <td>710000.0</td>\n",
       "      <td>S</td>\n",
       "      <td>Jas</td>\n",
       "      <td>15/07/2017</td>\n",
       "      <td>5.1</td>\n",
       "      <td>3011.0</td>\n",
       "      <td>1</td>\n",
       "      <td>0</td>\n",
       "      <td>521.0</td>\n",
       "      <td>136.0</td>\n",
       "      <td>1970</td>\n",
       "      <td>NaN</td>\n",
       "      <td>NaN</td>\n",
       "      <td>NaN</td>\n",
       "      <td>NaN</td>\n",
       "      <td>NaN</td>\n",
       "    </tr>\n",
       "    <tr>\n",
       "      <th>26888</th>\n",
       "      <td>Camberwell</td>\n",
       "      <td>2/3 Kingsley St</td>\n",
       "      <td>2</td>\n",
       "      <td>h</td>\n",
       "      <td>825000.0</td>\n",
       "      <td>VB</td>\n",
       "      <td>Jellis</td>\n",
       "      <td>11/11/2017</td>\n",
       "      <td>7.7</td>\n",
       "      <td>3124.0</td>\n",
       "      <td>1</td>\n",
       "      <td>0</td>\n",
       "      <td>521.0</td>\n",
       "      <td>136.0</td>\n",
       "      <td>1970</td>\n",
       "      <td>NaN</td>\n",
       "      <td>NaN</td>\n",
       "      <td>NaN</td>\n",
       "      <td>NaN</td>\n",
       "      <td>NaN</td>\n",
       "    </tr>\n",
       "    <tr>\n",
       "      <th>29483</th>\n",
       "      <td>Fawkner Lot</td>\n",
       "      <td>1/3 Brian St</td>\n",
       "      <td>3</td>\n",
       "      <td>h</td>\n",
       "      <td>616000.0</td>\n",
       "      <td>SP</td>\n",
       "      <td>Brad</td>\n",
       "      <td>6/01/2018</td>\n",
       "      <td>10.3</td>\n",
       "      <td>3073.0</td>\n",
       "      <td>1</td>\n",
       "      <td>0</td>\n",
       "      <td>521.0</td>\n",
       "      <td>136.0</td>\n",
       "      <td>1970</td>\n",
       "      <td>NaN</td>\n",
       "      <td>NaN</td>\n",
       "      <td>NaN</td>\n",
       "      <td>NaN</td>\n",
       "      <td>NaN</td>\n",
       "    </tr>\n",
       "  </tbody>\n",
       "</table>\n",
       "</div>"
      ],
      "text/plain": [
       "            Suburb           Address  Rooms Type     Price Method SellerG  \\\n",
       "18523    Footscray  2/16 Stafford St      2    u  710000.0      S     Jas   \n",
       "26888   Camberwell   2/3 Kingsley St      2    h  825000.0     VB  Jellis   \n",
       "29483  Fawkner Lot      1/3 Brian St      3    h  616000.0     SP    Brad   \n",
       "\n",
       "             Date  Distance  Postcode  Bathroom  Car  Landsize  BuildingArea  \\\n",
       "18523  15/07/2017       5.1    3011.0         1    0     521.0         136.0   \n",
       "26888  11/11/2017       7.7    3124.0         1    0     521.0         136.0   \n",
       "29483   6/01/2018      10.3    3073.0         1    0     521.0         136.0   \n",
       "\n",
       "       YearBuilt CouncilArea  Lattitude  Longtitude Regionname  Propertycount  \n",
       "18523       1970         NaN        NaN         NaN        NaN            NaN  \n",
       "26888       1970         NaN        NaN         NaN        NaN            NaN  \n",
       "29483       1970         NaN        NaN         NaN        NaN            NaN  "
      ]
     },
     "execution_count": 34,
     "metadata": {},
     "output_type": "execute_result"
    }
   ],
   "source": [
    "data[data['CouncilArea'].isnull()] "
   ]
  },
  {
   "cell_type": "code",
   "execution_count": 35,
   "id": "e754d828",
   "metadata": {},
   "outputs": [],
   "source": [
    "# Drop these 3 rows\n",
    "data.drop(index=[18523, 26888,29483], inplace=True)"
   ]
  },
  {
   "cell_type": "code",
   "execution_count": 36,
   "id": "e6eee7e8",
   "metadata": {},
   "outputs": [],
   "source": [
    "data['Lattitude']= data['Lattitude'].fillna(data['Lattitude'].median())\n",
    "data['Longtitude']= data['Longtitude'].fillna(data['Longtitude'].median())"
   ]
  },
  {
   "cell_type": "markdown",
   "id": "82afb9fd",
   "metadata": {},
   "source": [
    "Since <b>Price</b> is the output variable and inputing 21% values of a variable which you want need to predict will risk introducing \n",
    "a huge amount of bias. \n",
    "\n",
    "We will drop these rows with missing <b>Price</b>."
   ]
  },
  {
   "cell_type": "code",
   "execution_count": 37,
   "id": "e382657a",
   "metadata": {},
   "outputs": [
    {
     "data": {
      "text/plain": [
       "Suburb           0.0\n",
       "Address          0.0\n",
       "Rooms            0.0\n",
       "Type             0.0\n",
       "Price            0.0\n",
       "Method           0.0\n",
       "SellerG          0.0\n",
       "Date             0.0\n",
       "Distance         0.0\n",
       "Postcode         0.0\n",
       "Bathroom         0.0\n",
       "Car              0.0\n",
       "Landsize         0.0\n",
       "BuildingArea     0.0\n",
       "YearBuilt        0.0\n",
       "CouncilArea      0.0\n",
       "Lattitude        0.0\n",
       "Longtitude       0.0\n",
       "Regionname       0.0\n",
       "Propertycount    0.0\n",
       "dtype: float64"
      ]
     },
     "execution_count": 37,
     "metadata": {},
     "output_type": "execute_result"
    }
   ],
   "source": [
    "# Drop rows with missing Price. \n",
    "data = data[~np.isnan(data['Price'])]\n",
    "round(100*(data.isnull().sum()/len(data.index)), 2)"
   ]
  },
  {
   "cell_type": "code",
   "execution_count": 38,
   "id": "13251d5d",
   "metadata": {},
   "outputs": [
    {
     "data": {
      "text/plain": [
       "Suburb           351\n",
       "Address        34009\n",
       "Type               3\n",
       "Method             9\n",
       "SellerG          388\n",
       "Date              78\n",
       "CouncilArea       33\n",
       "Regionname         8\n",
       "dtype: int64"
      ]
     },
     "execution_count": 38,
     "metadata": {},
     "output_type": "execute_result"
    }
   ],
   "source": [
    "## For feature selection - selecting feature for hot-coding\n",
    "cat_col.nunique() \n",
    "\n",
    "#Good candidates: Regionname, Type, Method \n",
    "# Drop Suburb, Address, SellerG and CouncilArea as the values are too many "
   ]
  },
  {
   "cell_type": "markdown",
   "id": "f92d7f75",
   "metadata": {},
   "source": [
    "### Feature Engineering "
   ]
  },
  {
   "cell_type": "markdown",
   "id": "0196b793",
   "metadata": {},
   "source": [
    "It is reasonable to expect new properties to cost more than old ones. Age of the property should be a good indicator of <b>Price.</b> "
   ]
  },
  {
   "cell_type": "code",
   "execution_count": 39,
   "id": "f3f337be",
   "metadata": {},
   "outputs": [],
   "source": [
    "data['Age'] = 2019-data['YearBuilt']"
   ]
  },
  {
   "cell_type": "code",
   "execution_count": 40,
   "id": "c8efbd47",
   "metadata": {},
   "outputs": [
    {
     "name": "stdout",
     "output_type": "stream",
     "text": [
      "<class 'pandas.core.frame.DataFrame'>\n",
      "Int64Index: 27244 entries, 1 to 34856\n",
      "Data columns (total 21 columns):\n",
      " #   Column         Non-Null Count  Dtype  \n",
      "---  ------         --------------  -----  \n",
      " 0   Suburb         27244 non-null  object \n",
      " 1   Address        27244 non-null  object \n",
      " 2   Rooms          27244 non-null  int64  \n",
      " 3   Type           27244 non-null  object \n",
      " 4   Price          27244 non-null  float64\n",
      " 5   Method         27244 non-null  object \n",
      " 6   SellerG        27244 non-null  object \n",
      " 7   Date           27244 non-null  object \n",
      " 8   Distance       27244 non-null  float64\n",
      " 9   Postcode       27244 non-null  float64\n",
      " 10  Bathroom       27244 non-null  int64  \n",
      " 11  Car            27244 non-null  int64  \n",
      " 12  Landsize       27244 non-null  float64\n",
      " 13  BuildingArea   27244 non-null  float64\n",
      " 14  YearBuilt      27244 non-null  int64  \n",
      " 15  CouncilArea    27244 non-null  object \n",
      " 16  Lattitude      27244 non-null  float64\n",
      " 17  Longtitude     27244 non-null  float64\n",
      " 18  Regionname     27244 non-null  object \n",
      " 19  Propertycount  27244 non-null  float64\n",
      " 20  Age            27244 non-null  int64  \n",
      "dtypes: float64(8), int64(5), object(8)\n",
      "memory usage: 4.6+ MB\n"
     ]
    }
   ],
   "source": [
    "data['Age'] = 2019-data['YearBuilt']"
   ]
  },
  {
   "cell_type": "code",
   "execution_count": 41,
   "id": "cf54b8fd",
   "metadata": {},
   "outputs": [],
   "source": [
    "data['Dateframe'] = pd.to_datetime(data['Date'])"
   ]
  },
  {
   "cell_type": "code",
   "execution_count": 42,
   "id": "a1aa0139",
   "metadata": {},
   "outputs": [],
   "source": [
    "# calculate day of year\n",
    "data['DayofYr'] = data['Dateframe'].dt.dayofyear\n",
    "# Create year\n",
    "data['Year'] = data['Dateframe'].dt.year"
   ]
  },
  {
   "cell_type": "code",
   "execution_count": 43,
   "id": "0609ff3b",
   "metadata": {},
   "outputs": [
    {
     "name": "stdout",
     "output_type": "stream",
     "text": [
      "<class 'pandas.core.frame.DataFrame'>\n",
      "Int64Index: 27244 entries, 1 to 34856\n",
      "Data columns (total 24 columns):\n",
      " #   Column         Non-Null Count  Dtype         \n",
      "---  ------         --------------  -----         \n",
      " 0   Suburb         27244 non-null  object        \n",
      " 1   Address        27244 non-null  object        \n",
      " 2   Rooms          27244 non-null  int64         \n",
      " 3   Type           27244 non-null  object        \n",
      " 4   Price          27244 non-null  float64       \n",
      " 5   Method         27244 non-null  object        \n",
      " 6   SellerG        27244 non-null  object        \n",
      " 7   Date           27244 non-null  object        \n",
      " 8   Distance       27244 non-null  float64       \n",
      " 9   Postcode       27244 non-null  float64       \n",
      " 10  Bathroom       27244 non-null  int64         \n",
      " 11  Car            27244 non-null  int64         \n",
      " 12  Landsize       27244 non-null  float64       \n",
      " 13  BuildingArea   27244 non-null  float64       \n",
      " 14  YearBuilt      27244 non-null  int64         \n",
      " 15  CouncilArea    27244 non-null  object        \n",
      " 16  Lattitude      27244 non-null  float64       \n",
      " 17  Longtitude     27244 non-null  float64       \n",
      " 18  Regionname     27244 non-null  object        \n",
      " 19  Propertycount  27244 non-null  float64       \n",
      " 20  Age            27244 non-null  int64         \n",
      " 21  Dateframe      27244 non-null  datetime64[ns]\n",
      " 22  DayofYr        27244 non-null  int64         \n",
      " 23  Year           27244 non-null  int64         \n",
      "dtypes: datetime64[ns](1), float64(8), int64(7), object(8)\n",
      "memory usage: 5.2+ MB\n"
     ]
    }
   ],
   "source": [
    "data.info()"
   ]
  },
  {
   "cell_type": "code",
   "execution_count": 45,
   "id": "112e4f99",
   "metadata": {},
   "outputs": [
    {
     "data": {
      "text/html": [
       "<div>\n",
       "<style scoped>\n",
       "    .dataframe tbody tr th:only-of-type {\n",
       "        vertical-align: middle;\n",
       "    }\n",
       "\n",
       "    .dataframe tbody tr th {\n",
       "        vertical-align: top;\n",
       "    }\n",
       "\n",
       "    .dataframe thead th {\n",
       "        text-align: right;\n",
       "    }\n",
       "</style>\n",
       "<table border=\"1\" class=\"dataframe\">\n",
       "  <thead>\n",
       "    <tr style=\"text-align: right;\">\n",
       "      <th></th>\n",
       "      <th>Suburb</th>\n",
       "      <th>Address</th>\n",
       "      <th>Rooms</th>\n",
       "      <th>Type</th>\n",
       "      <th>Price</th>\n",
       "      <th>Method</th>\n",
       "      <th>SellerG</th>\n",
       "      <th>Date</th>\n",
       "      <th>Distance</th>\n",
       "      <th>Postcode</th>\n",
       "      <th>Bathroom</th>\n",
       "      <th>Car</th>\n",
       "      <th>Landsize</th>\n",
       "      <th>BuildingArea</th>\n",
       "      <th>YearBuilt</th>\n",
       "      <th>CouncilArea</th>\n",
       "      <th>Lattitude</th>\n",
       "      <th>Longtitude</th>\n",
       "      <th>Regionname</th>\n",
       "      <th>Propertycount</th>\n",
       "      <th>Age</th>\n",
       "      <th>Dateframe</th>\n",
       "      <th>DayofYr</th>\n",
       "      <th>Year</th>\n",
       "      <th>max_sub_id</th>\n",
       "    </tr>\n",
       "  </thead>\n",
       "  <tbody>\n",
       "    <tr>\n",
       "      <th>0</th>\n",
       "      <td>Abbotsford</td>\n",
       "      <td>85 Turner St</td>\n",
       "      <td>2</td>\n",
       "      <td>h</td>\n",
       "      <td>1480000.0</td>\n",
       "      <td>S</td>\n",
       "      <td>Biggin</td>\n",
       "      <td>3/12/2016</td>\n",
       "      <td>2.5</td>\n",
       "      <td>3067.0</td>\n",
       "      <td>1</td>\n",
       "      <td>1</td>\n",
       "      <td>202.0</td>\n",
       "      <td>136.0</td>\n",
       "      <td>1970</td>\n",
       "      <td>Yarra City Council</td>\n",
       "      <td>-37.7996</td>\n",
       "      <td>144.9984</td>\n",
       "      <td>Northern Metropolitan</td>\n",
       "      <td>4019.0</td>\n",
       "      <td>49</td>\n",
       "      <td>2016-03-12</td>\n",
       "      <td>72</td>\n",
       "      <td>2016</td>\n",
       "      <td>1985000.0</td>\n",
       "    </tr>\n",
       "    <tr>\n",
       "      <th>1</th>\n",
       "      <td>Abbotsford</td>\n",
       "      <td>25 Bloomburg St</td>\n",
       "      <td>2</td>\n",
       "      <td>h</td>\n",
       "      <td>1035000.0</td>\n",
       "      <td>S</td>\n",
       "      <td>Biggin</td>\n",
       "      <td>4/02/2016</td>\n",
       "      <td>2.5</td>\n",
       "      <td>3067.0</td>\n",
       "      <td>1</td>\n",
       "      <td>0</td>\n",
       "      <td>156.0</td>\n",
       "      <td>79.0</td>\n",
       "      <td>1900</td>\n",
       "      <td>Yarra City Council</td>\n",
       "      <td>-37.8079</td>\n",
       "      <td>144.9934</td>\n",
       "      <td>Northern Metropolitan</td>\n",
       "      <td>4019.0</td>\n",
       "      <td>119</td>\n",
       "      <td>2016-04-02</td>\n",
       "      <td>93</td>\n",
       "      <td>2016</td>\n",
       "      <td>1985000.0</td>\n",
       "    </tr>\n",
       "    <tr>\n",
       "      <th>2</th>\n",
       "      <td>Abbotsford</td>\n",
       "      <td>5 Charles St</td>\n",
       "      <td>3</td>\n",
       "      <td>h</td>\n",
       "      <td>1465000.0</td>\n",
       "      <td>SP</td>\n",
       "      <td>Biggin</td>\n",
       "      <td>4/03/2017</td>\n",
       "      <td>2.5</td>\n",
       "      <td>3067.0</td>\n",
       "      <td>2</td>\n",
       "      <td>0</td>\n",
       "      <td>134.0</td>\n",
       "      <td>150.0</td>\n",
       "      <td>1900</td>\n",
       "      <td>Yarra City Council</td>\n",
       "      <td>-37.8093</td>\n",
       "      <td>144.9944</td>\n",
       "      <td>Northern Metropolitan</td>\n",
       "      <td>4019.0</td>\n",
       "      <td>119</td>\n",
       "      <td>2017-04-03</td>\n",
       "      <td>93</td>\n",
       "      <td>2017</td>\n",
       "      <td>1985000.0</td>\n",
       "    </tr>\n",
       "    <tr>\n",
       "      <th>3</th>\n",
       "      <td>Abbotsford</td>\n",
       "      <td>40 Federation La</td>\n",
       "      <td>3</td>\n",
       "      <td>h</td>\n",
       "      <td>850000.0</td>\n",
       "      <td>PI</td>\n",
       "      <td>Biggin</td>\n",
       "      <td>4/03/2017</td>\n",
       "      <td>2.5</td>\n",
       "      <td>3067.0</td>\n",
       "      <td>2</td>\n",
       "      <td>1</td>\n",
       "      <td>94.0</td>\n",
       "      <td>136.0</td>\n",
       "      <td>1970</td>\n",
       "      <td>Yarra City Council</td>\n",
       "      <td>-37.7969</td>\n",
       "      <td>144.9969</td>\n",
       "      <td>Northern Metropolitan</td>\n",
       "      <td>4019.0</td>\n",
       "      <td>49</td>\n",
       "      <td>2017-04-03</td>\n",
       "      <td>93</td>\n",
       "      <td>2017</td>\n",
       "      <td>1985000.0</td>\n",
       "    </tr>\n",
       "    <tr>\n",
       "      <th>4</th>\n",
       "      <td>Abbotsford</td>\n",
       "      <td>55a Park St</td>\n",
       "      <td>4</td>\n",
       "      <td>h</td>\n",
       "      <td>1600000.0</td>\n",
       "      <td>VB</td>\n",
       "      <td>Nelson</td>\n",
       "      <td>4/06/2016</td>\n",
       "      <td>2.5</td>\n",
       "      <td>3067.0</td>\n",
       "      <td>1</td>\n",
       "      <td>2</td>\n",
       "      <td>120.0</td>\n",
       "      <td>142.0</td>\n",
       "      <td>2014</td>\n",
       "      <td>Yarra City Council</td>\n",
       "      <td>-37.8072</td>\n",
       "      <td>144.9941</td>\n",
       "      <td>Northern Metropolitan</td>\n",
       "      <td>4019.0</td>\n",
       "      <td>5</td>\n",
       "      <td>2016-04-06</td>\n",
       "      <td>97</td>\n",
       "      <td>2016</td>\n",
       "      <td>1985000.0</td>\n",
       "    </tr>\n",
       "  </tbody>\n",
       "</table>\n",
       "</div>"
      ],
      "text/plain": [
       "       Suburb           Address  Rooms Type      Price Method SellerG  \\\n",
       "0  Abbotsford      85 Turner St      2    h  1480000.0      S  Biggin   \n",
       "1  Abbotsford   25 Bloomburg St      2    h  1035000.0      S  Biggin   \n",
       "2  Abbotsford      5 Charles St      3    h  1465000.0     SP  Biggin   \n",
       "3  Abbotsford  40 Federation La      3    h   850000.0     PI  Biggin   \n",
       "4  Abbotsford       55a Park St      4    h  1600000.0     VB  Nelson   \n",
       "\n",
       "        Date  Distance  Postcode  Bathroom  Car  Landsize  BuildingArea  \\\n",
       "0  3/12/2016       2.5    3067.0         1    1     202.0         136.0   \n",
       "1  4/02/2016       2.5    3067.0         1    0     156.0          79.0   \n",
       "2  4/03/2017       2.5    3067.0         2    0     134.0         150.0   \n",
       "3  4/03/2017       2.5    3067.0         2    1      94.0         136.0   \n",
       "4  4/06/2016       2.5    3067.0         1    2     120.0         142.0   \n",
       "\n",
       "   YearBuilt         CouncilArea  Lattitude  Longtitude  \\\n",
       "0       1970  Yarra City Council   -37.7996    144.9984   \n",
       "1       1900  Yarra City Council   -37.8079    144.9934   \n",
       "2       1900  Yarra City Council   -37.8093    144.9944   \n",
       "3       1970  Yarra City Council   -37.7969    144.9969   \n",
       "4       2014  Yarra City Council   -37.8072    144.9941   \n",
       "\n",
       "              Regionname  Propertycount  Age  Dateframe  DayofYr  Year  \\\n",
       "0  Northern Metropolitan         4019.0   49 2016-03-12       72  2016   \n",
       "1  Northern Metropolitan         4019.0  119 2016-04-02       93  2016   \n",
       "2  Northern Metropolitan         4019.0  119 2017-04-03       93  2017   \n",
       "3  Northern Metropolitan         4019.0   49 2017-04-03       93  2017   \n",
       "4  Northern Metropolitan         4019.0    5 2016-04-06       97  2016   \n",
       "\n",
       "   max_sub_id  \n",
       "0   1985000.0  \n",
       "1   1985000.0  \n",
       "2   1985000.0  \n",
       "3   1985000.0  \n",
       "4   1985000.0  "
      ]
     },
     "execution_count": 45,
     "metadata": {},
     "output_type": "execute_result"
    }
   ],
   "source": [
    "# Create markers of max price of Suburb\n",
    "# To give the model a better idea that certain Suburb will be a better indicator of price points. Location of the property\n",
    "# always plays an important factor in Price of the house. \n",
    "\n",
    "temp = data.groupby('Suburb').agg({'max'})\n",
    "temp2 = temp['Price']\n",
    "temp2 = temp2.reset_index()\n",
    "temp2.columns = ['Suburb', 'max_sub_id']\n",
    "data_copy = data\n",
    "data_copy = pd.merge(data_copy, temp2, on='Suburb', how='left')\n",
    "data_copy.head()"
   ]
  },
  {
   "cell_type": "code",
   "execution_count": 46,
   "id": "65239e9e",
   "metadata": {},
   "outputs": [
    {
     "data": {
      "text/html": [
       "<div>\n",
       "<style scoped>\n",
       "    .dataframe tbody tr th:only-of-type {\n",
       "        vertical-align: middle;\n",
       "    }\n",
       "\n",
       "    .dataframe tbody tr th {\n",
       "        vertical-align: top;\n",
       "    }\n",
       "\n",
       "    .dataframe thead th {\n",
       "        text-align: right;\n",
       "    }\n",
       "</style>\n",
       "<table border=\"1\" class=\"dataframe\">\n",
       "  <thead>\n",
       "    <tr style=\"text-align: right;\">\n",
       "      <th></th>\n",
       "      <th>Suburb</th>\n",
       "      <th>Address</th>\n",
       "      <th>Rooms</th>\n",
       "      <th>Type</th>\n",
       "      <th>Price</th>\n",
       "      <th>Method</th>\n",
       "      <th>SellerG</th>\n",
       "      <th>Date</th>\n",
       "      <th>Distance</th>\n",
       "      <th>Postcode</th>\n",
       "      <th>Bathroom</th>\n",
       "      <th>Car</th>\n",
       "      <th>Landsize</th>\n",
       "      <th>BuildingArea</th>\n",
       "      <th>YearBuilt</th>\n",
       "      <th>CouncilArea</th>\n",
       "      <th>Lattitude</th>\n",
       "      <th>Longtitude</th>\n",
       "      <th>Regionname</th>\n",
       "      <th>Propertycount</th>\n",
       "      <th>Age</th>\n",
       "      <th>Dateframe</th>\n",
       "      <th>DayofYr</th>\n",
       "      <th>Year</th>\n",
       "      <th>max_sub_id</th>\n",
       "      <th>max_c_id</th>\n",
       "    </tr>\n",
       "  </thead>\n",
       "  <tbody>\n",
       "    <tr>\n",
       "      <th>0</th>\n",
       "      <td>Abbotsford</td>\n",
       "      <td>85 Turner St</td>\n",
       "      <td>2</td>\n",
       "      <td>h</td>\n",
       "      <td>1480000.0</td>\n",
       "      <td>S</td>\n",
       "      <td>Biggin</td>\n",
       "      <td>3/12/2016</td>\n",
       "      <td>2.5</td>\n",
       "      <td>3067.0</td>\n",
       "      <td>1</td>\n",
       "      <td>1</td>\n",
       "      <td>202.0</td>\n",
       "      <td>136.0</td>\n",
       "      <td>1970</td>\n",
       "      <td>Yarra City Council</td>\n",
       "      <td>-37.7996</td>\n",
       "      <td>144.9984</td>\n",
       "      <td>Northern Metropolitan</td>\n",
       "      <td>4019.0</td>\n",
       "      <td>49</td>\n",
       "      <td>2016-03-12</td>\n",
       "      <td>72</td>\n",
       "      <td>2016</td>\n",
       "      <td>1985000.0</td>\n",
       "      <td>4011000.0</td>\n",
       "    </tr>\n",
       "    <tr>\n",
       "      <th>1</th>\n",
       "      <td>Abbotsford</td>\n",
       "      <td>25 Bloomburg St</td>\n",
       "      <td>2</td>\n",
       "      <td>h</td>\n",
       "      <td>1035000.0</td>\n",
       "      <td>S</td>\n",
       "      <td>Biggin</td>\n",
       "      <td>4/02/2016</td>\n",
       "      <td>2.5</td>\n",
       "      <td>3067.0</td>\n",
       "      <td>1</td>\n",
       "      <td>0</td>\n",
       "      <td>156.0</td>\n",
       "      <td>79.0</td>\n",
       "      <td>1900</td>\n",
       "      <td>Yarra City Council</td>\n",
       "      <td>-37.8079</td>\n",
       "      <td>144.9934</td>\n",
       "      <td>Northern Metropolitan</td>\n",
       "      <td>4019.0</td>\n",
       "      <td>119</td>\n",
       "      <td>2016-04-02</td>\n",
       "      <td>93</td>\n",
       "      <td>2016</td>\n",
       "      <td>1985000.0</td>\n",
       "      <td>4011000.0</td>\n",
       "    </tr>\n",
       "    <tr>\n",
       "      <th>2</th>\n",
       "      <td>Abbotsford</td>\n",
       "      <td>5 Charles St</td>\n",
       "      <td>3</td>\n",
       "      <td>h</td>\n",
       "      <td>1465000.0</td>\n",
       "      <td>SP</td>\n",
       "      <td>Biggin</td>\n",
       "      <td>4/03/2017</td>\n",
       "      <td>2.5</td>\n",
       "      <td>3067.0</td>\n",
       "      <td>2</td>\n",
       "      <td>0</td>\n",
       "      <td>134.0</td>\n",
       "      <td>150.0</td>\n",
       "      <td>1900</td>\n",
       "      <td>Yarra City Council</td>\n",
       "      <td>-37.8093</td>\n",
       "      <td>144.9944</td>\n",
       "      <td>Northern Metropolitan</td>\n",
       "      <td>4019.0</td>\n",
       "      <td>119</td>\n",
       "      <td>2017-04-03</td>\n",
       "      <td>93</td>\n",
       "      <td>2017</td>\n",
       "      <td>1985000.0</td>\n",
       "      <td>4011000.0</td>\n",
       "    </tr>\n",
       "    <tr>\n",
       "      <th>3</th>\n",
       "      <td>Abbotsford</td>\n",
       "      <td>40 Federation La</td>\n",
       "      <td>3</td>\n",
       "      <td>h</td>\n",
       "      <td>850000.0</td>\n",
       "      <td>PI</td>\n",
       "      <td>Biggin</td>\n",
       "      <td>4/03/2017</td>\n",
       "      <td>2.5</td>\n",
       "      <td>3067.0</td>\n",
       "      <td>2</td>\n",
       "      <td>1</td>\n",
       "      <td>94.0</td>\n",
       "      <td>136.0</td>\n",
       "      <td>1970</td>\n",
       "      <td>Yarra City Council</td>\n",
       "      <td>-37.7969</td>\n",
       "      <td>144.9969</td>\n",
       "      <td>Northern Metropolitan</td>\n",
       "      <td>4019.0</td>\n",
       "      <td>49</td>\n",
       "      <td>2017-04-03</td>\n",
       "      <td>93</td>\n",
       "      <td>2017</td>\n",
       "      <td>1985000.0</td>\n",
       "      <td>4011000.0</td>\n",
       "    </tr>\n",
       "    <tr>\n",
       "      <th>4</th>\n",
       "      <td>Abbotsford</td>\n",
       "      <td>55a Park St</td>\n",
       "      <td>4</td>\n",
       "      <td>h</td>\n",
       "      <td>1600000.0</td>\n",
       "      <td>VB</td>\n",
       "      <td>Nelson</td>\n",
       "      <td>4/06/2016</td>\n",
       "      <td>2.5</td>\n",
       "      <td>3067.0</td>\n",
       "      <td>1</td>\n",
       "      <td>2</td>\n",
       "      <td>120.0</td>\n",
       "      <td>142.0</td>\n",
       "      <td>2014</td>\n",
       "      <td>Yarra City Council</td>\n",
       "      <td>-37.8072</td>\n",
       "      <td>144.9941</td>\n",
       "      <td>Northern Metropolitan</td>\n",
       "      <td>4019.0</td>\n",
       "      <td>5</td>\n",
       "      <td>2016-04-06</td>\n",
       "      <td>97</td>\n",
       "      <td>2016</td>\n",
       "      <td>1985000.0</td>\n",
       "      <td>4011000.0</td>\n",
       "    </tr>\n",
       "  </tbody>\n",
       "</table>\n",
       "</div>"
      ],
      "text/plain": [
       "       Suburb           Address  Rooms Type      Price Method SellerG  \\\n",
       "0  Abbotsford      85 Turner St      2    h  1480000.0      S  Biggin   \n",
       "1  Abbotsford   25 Bloomburg St      2    h  1035000.0      S  Biggin   \n",
       "2  Abbotsford      5 Charles St      3    h  1465000.0     SP  Biggin   \n",
       "3  Abbotsford  40 Federation La      3    h   850000.0     PI  Biggin   \n",
       "4  Abbotsford       55a Park St      4    h  1600000.0     VB  Nelson   \n",
       "\n",
       "        Date  Distance  Postcode  Bathroom  Car  Landsize  BuildingArea  \\\n",
       "0  3/12/2016       2.5    3067.0         1    1     202.0         136.0   \n",
       "1  4/02/2016       2.5    3067.0         1    0     156.0          79.0   \n",
       "2  4/03/2017       2.5    3067.0         2    0     134.0         150.0   \n",
       "3  4/03/2017       2.5    3067.0         2    1      94.0         136.0   \n",
       "4  4/06/2016       2.5    3067.0         1    2     120.0         142.0   \n",
       "\n",
       "   YearBuilt         CouncilArea  Lattitude  Longtitude  \\\n",
       "0       1970  Yarra City Council   -37.7996    144.9984   \n",
       "1       1900  Yarra City Council   -37.8079    144.9934   \n",
       "2       1900  Yarra City Council   -37.8093    144.9944   \n",
       "3       1970  Yarra City Council   -37.7969    144.9969   \n",
       "4       2014  Yarra City Council   -37.8072    144.9941   \n",
       "\n",
       "              Regionname  Propertycount  Age  Dateframe  DayofYr  Year  \\\n",
       "0  Northern Metropolitan         4019.0   49 2016-03-12       72  2016   \n",
       "1  Northern Metropolitan         4019.0  119 2016-04-02       93  2016   \n",
       "2  Northern Metropolitan         4019.0  119 2017-04-03       93  2017   \n",
       "3  Northern Metropolitan         4019.0   49 2017-04-03       93  2017   \n",
       "4  Northern Metropolitan         4019.0    5 2016-04-06       97  2016   \n",
       "\n",
       "   max_sub_id   max_c_id  \n",
       "0   1985000.0  4011000.0  \n",
       "1   1985000.0  4011000.0  \n",
       "2   1985000.0  4011000.0  \n",
       "3   1985000.0  4011000.0  \n",
       "4   1985000.0  4011000.0  "
      ]
     },
     "execution_count": 46,
     "metadata": {},
     "output_type": "execute_result"
    }
   ],
   "source": [
    "# Create markers of max price of CouncilArea\n",
    "# To give the model a better idea that certain CouncilArea will be a better indicator of price points.\n",
    "\n",
    "council = data.groupby('CouncilArea').agg({'max'})\n",
    "temp6 = council['Price']\n",
    "temp6 = temp6.reset_index()\n",
    "temp6.columns = ['CouncilArea', 'max_c_id']\n",
    "data_copy = pd.merge(data_copy, temp6, on='CouncilArea', how='left')\n",
    "data_copy.head()"
   ]
  },
  {
   "cell_type": "code",
   "execution_count": 47,
   "id": "f64513f6",
   "metadata": {},
   "outputs": [
    {
     "data": {
      "text/html": [
       "<div>\n",
       "<style scoped>\n",
       "    .dataframe tbody tr th:only-of-type {\n",
       "        vertical-align: middle;\n",
       "    }\n",
       "\n",
       "    .dataframe tbody tr th {\n",
       "        vertical-align: top;\n",
       "    }\n",
       "\n",
       "    .dataframe thead th {\n",
       "        text-align: right;\n",
       "    }\n",
       "</style>\n",
       "<table border=\"1\" class=\"dataframe\">\n",
       "  <thead>\n",
       "    <tr style=\"text-align: right;\">\n",
       "      <th></th>\n",
       "      <th>Suburb</th>\n",
       "      <th>Address</th>\n",
       "      <th>Rooms</th>\n",
       "      <th>Type</th>\n",
       "      <th>Price</th>\n",
       "      <th>Method</th>\n",
       "      <th>SellerG</th>\n",
       "      <th>Date</th>\n",
       "      <th>Distance</th>\n",
       "      <th>Postcode</th>\n",
       "      <th>Bathroom</th>\n",
       "      <th>Car</th>\n",
       "      <th>Landsize</th>\n",
       "      <th>BuildingArea</th>\n",
       "      <th>YearBuilt</th>\n",
       "      <th>CouncilArea</th>\n",
       "      <th>Lattitude</th>\n",
       "      <th>Longtitude</th>\n",
       "      <th>Regionname</th>\n",
       "      <th>Propertycount</th>\n",
       "      <th>Age</th>\n",
       "      <th>Dateframe</th>\n",
       "      <th>DayofYr</th>\n",
       "      <th>Year</th>\n",
       "      <th>max_sub_id</th>\n",
       "      <th>max_c_id</th>\n",
       "      <th>min_t_id</th>\n",
       "    </tr>\n",
       "  </thead>\n",
       "  <tbody>\n",
       "    <tr>\n",
       "      <th>0</th>\n",
       "      <td>Abbotsford</td>\n",
       "      <td>85 Turner St</td>\n",
       "      <td>2</td>\n",
       "      <td>h</td>\n",
       "      <td>1480000.0</td>\n",
       "      <td>S</td>\n",
       "      <td>Biggin</td>\n",
       "      <td>3/12/2016</td>\n",
       "      <td>2.5</td>\n",
       "      <td>3067.0</td>\n",
       "      <td>1</td>\n",
       "      <td>1</td>\n",
       "      <td>202.0</td>\n",
       "      <td>136.0</td>\n",
       "      <td>1970</td>\n",
       "      <td>Yarra City Council</td>\n",
       "      <td>-37.7996</td>\n",
       "      <td>144.9984</td>\n",
       "      <td>Northern Metropolitan</td>\n",
       "      <td>4019.0</td>\n",
       "      <td>49</td>\n",
       "      <td>2016-03-12</td>\n",
       "      <td>72</td>\n",
       "      <td>2016</td>\n",
       "      <td>1985000.0</td>\n",
       "      <td>4011000.0</td>\n",
       "      <td>131000.0</td>\n",
       "    </tr>\n",
       "    <tr>\n",
       "      <th>1</th>\n",
       "      <td>Abbotsford</td>\n",
       "      <td>25 Bloomburg St</td>\n",
       "      <td>2</td>\n",
       "      <td>h</td>\n",
       "      <td>1035000.0</td>\n",
       "      <td>S</td>\n",
       "      <td>Biggin</td>\n",
       "      <td>4/02/2016</td>\n",
       "      <td>2.5</td>\n",
       "      <td>3067.0</td>\n",
       "      <td>1</td>\n",
       "      <td>0</td>\n",
       "      <td>156.0</td>\n",
       "      <td>79.0</td>\n",
       "      <td>1900</td>\n",
       "      <td>Yarra City Council</td>\n",
       "      <td>-37.8079</td>\n",
       "      <td>144.9934</td>\n",
       "      <td>Northern Metropolitan</td>\n",
       "      <td>4019.0</td>\n",
       "      <td>119</td>\n",
       "      <td>2016-04-02</td>\n",
       "      <td>93</td>\n",
       "      <td>2016</td>\n",
       "      <td>1985000.0</td>\n",
       "      <td>4011000.0</td>\n",
       "      <td>131000.0</td>\n",
       "    </tr>\n",
       "    <tr>\n",
       "      <th>2</th>\n",
       "      <td>Abbotsford</td>\n",
       "      <td>5 Charles St</td>\n",
       "      <td>3</td>\n",
       "      <td>h</td>\n",
       "      <td>1465000.0</td>\n",
       "      <td>SP</td>\n",
       "      <td>Biggin</td>\n",
       "      <td>4/03/2017</td>\n",
       "      <td>2.5</td>\n",
       "      <td>3067.0</td>\n",
       "      <td>2</td>\n",
       "      <td>0</td>\n",
       "      <td>134.0</td>\n",
       "      <td>150.0</td>\n",
       "      <td>1900</td>\n",
       "      <td>Yarra City Council</td>\n",
       "      <td>-37.8093</td>\n",
       "      <td>144.9944</td>\n",
       "      <td>Northern Metropolitan</td>\n",
       "      <td>4019.0</td>\n",
       "      <td>119</td>\n",
       "      <td>2017-04-03</td>\n",
       "      <td>93</td>\n",
       "      <td>2017</td>\n",
       "      <td>1985000.0</td>\n",
       "      <td>4011000.0</td>\n",
       "      <td>131000.0</td>\n",
       "    </tr>\n",
       "    <tr>\n",
       "      <th>3</th>\n",
       "      <td>Abbotsford</td>\n",
       "      <td>40 Federation La</td>\n",
       "      <td>3</td>\n",
       "      <td>h</td>\n",
       "      <td>850000.0</td>\n",
       "      <td>PI</td>\n",
       "      <td>Biggin</td>\n",
       "      <td>4/03/2017</td>\n",
       "      <td>2.5</td>\n",
       "      <td>3067.0</td>\n",
       "      <td>2</td>\n",
       "      <td>1</td>\n",
       "      <td>94.0</td>\n",
       "      <td>136.0</td>\n",
       "      <td>1970</td>\n",
       "      <td>Yarra City Council</td>\n",
       "      <td>-37.7969</td>\n",
       "      <td>144.9969</td>\n",
       "      <td>Northern Metropolitan</td>\n",
       "      <td>4019.0</td>\n",
       "      <td>49</td>\n",
       "      <td>2017-04-03</td>\n",
       "      <td>93</td>\n",
       "      <td>2017</td>\n",
       "      <td>1985000.0</td>\n",
       "      <td>4011000.0</td>\n",
       "      <td>131000.0</td>\n",
       "    </tr>\n",
       "    <tr>\n",
       "      <th>4</th>\n",
       "      <td>Abbotsford</td>\n",
       "      <td>55a Park St</td>\n",
       "      <td>4</td>\n",
       "      <td>h</td>\n",
       "      <td>1600000.0</td>\n",
       "      <td>VB</td>\n",
       "      <td>Nelson</td>\n",
       "      <td>4/06/2016</td>\n",
       "      <td>2.5</td>\n",
       "      <td>3067.0</td>\n",
       "      <td>1</td>\n",
       "      <td>2</td>\n",
       "      <td>120.0</td>\n",
       "      <td>142.0</td>\n",
       "      <td>2014</td>\n",
       "      <td>Yarra City Council</td>\n",
       "      <td>-37.8072</td>\n",
       "      <td>144.9941</td>\n",
       "      <td>Northern Metropolitan</td>\n",
       "      <td>4019.0</td>\n",
       "      <td>5</td>\n",
       "      <td>2016-04-06</td>\n",
       "      <td>97</td>\n",
       "      <td>2016</td>\n",
       "      <td>1985000.0</td>\n",
       "      <td>4011000.0</td>\n",
       "      <td>131000.0</td>\n",
       "    </tr>\n",
       "  </tbody>\n",
       "</table>\n",
       "</div>"
      ],
      "text/plain": [
       "       Suburb           Address  Rooms Type      Price Method SellerG  \\\n",
       "0  Abbotsford      85 Turner St      2    h  1480000.0      S  Biggin   \n",
       "1  Abbotsford   25 Bloomburg St      2    h  1035000.0      S  Biggin   \n",
       "2  Abbotsford      5 Charles St      3    h  1465000.0     SP  Biggin   \n",
       "3  Abbotsford  40 Federation La      3    h   850000.0     PI  Biggin   \n",
       "4  Abbotsford       55a Park St      4    h  1600000.0     VB  Nelson   \n",
       "\n",
       "        Date  Distance  Postcode  Bathroom  Car  Landsize  BuildingArea  \\\n",
       "0  3/12/2016       2.5    3067.0         1    1     202.0         136.0   \n",
       "1  4/02/2016       2.5    3067.0         1    0     156.0          79.0   \n",
       "2  4/03/2017       2.5    3067.0         2    0     134.0         150.0   \n",
       "3  4/03/2017       2.5    3067.0         2    1      94.0         136.0   \n",
       "4  4/06/2016       2.5    3067.0         1    2     120.0         142.0   \n",
       "\n",
       "   YearBuilt         CouncilArea  Lattitude  Longtitude  \\\n",
       "0       1970  Yarra City Council   -37.7996    144.9984   \n",
       "1       1900  Yarra City Council   -37.8079    144.9934   \n",
       "2       1900  Yarra City Council   -37.8093    144.9944   \n",
       "3       1970  Yarra City Council   -37.7969    144.9969   \n",
       "4       2014  Yarra City Council   -37.8072    144.9941   \n",
       "\n",
       "              Regionname  Propertycount  Age  Dateframe  DayofYr  Year  \\\n",
       "0  Northern Metropolitan         4019.0   49 2016-03-12       72  2016   \n",
       "1  Northern Metropolitan         4019.0  119 2016-04-02       93  2016   \n",
       "2  Northern Metropolitan         4019.0  119 2017-04-03       93  2017   \n",
       "3  Northern Metropolitan         4019.0   49 2017-04-03       93  2017   \n",
       "4  Northern Metropolitan         4019.0    5 2016-04-06       97  2016   \n",
       "\n",
       "   max_sub_id   max_c_id  min_t_id  \n",
       "0   1985000.0  4011000.0  131000.0  \n",
       "1   1985000.0  4011000.0  131000.0  \n",
       "2   1985000.0  4011000.0  131000.0  \n",
       "3   1985000.0  4011000.0  131000.0  \n",
       "4   1985000.0  4011000.0  131000.0  "
      ]
     },
     "execution_count": 47,
     "metadata": {},
     "output_type": "execute_result"
    }
   ],
   "source": [
    "# Create marker for min price of Type of housing. \n",
    "type_g = data.groupby('Type').agg({'min'})\n",
    "temp3 = type_g['Price']\n",
    "temp3 = temp3.reset_index()\n",
    "temp3.columns = ['Type', 'min_t_id']\n",
    "data_copy = pd.merge(data_copy, temp3, on='Type', how='left')\n",
    "data_copy.head()"
   ]
  },
  {
   "cell_type": "code",
   "execution_count": 48,
   "id": "be17274c",
   "metadata": {},
   "outputs": [],
   "source": [
    "from sklearn.model_selection import train_test_split\n",
    "\n",
    "train_set, test_set = train_test_split(data_copy, test_size=0.2, random_state=42)\n",
    "data = train_set.copy()"
   ]
  },
  {
   "cell_type": "markdown",
   "id": "e3436238",
   "metadata": {},
   "source": [
    "## Visualizations\n",
    "\n"
   ]
  },
  {
   "cell_type": "code",
   "execution_count": 49,
   "id": "e549df13",
   "metadata": {},
   "outputs": [
    {
     "data": {
      "image/png": "[encoded data removed]",
      "text/plain": [
       "<Figure size 1152x1440 with 20 Axes>"
      ]
     },
     "metadata": {
      "needs_background": "light"
     },
     "output_type": "display_data"
    }
   ],
   "source": [
    "data.hist(figsize=(16,20), xrot=45)\n",
    "plt.show()"
   ]
  },
  {
   "cell_type": "markdown",
   "id": "f03cf41b",
   "metadata": {},
   "source": [
    "Check Boxplots for Categorical Features"
   ]
  },
  {
   "cell_type": "code",
   "execution_count": 50,
   "id": "3caf79fe",
   "metadata": {},
   "outputs": [
    {
     "data": {
      "image/png": "[encoded data removed]",
      "text/plain": [
       "<Figure size 1296x576 with 1 Axes>"
      ]
     },
     "metadata": {},
     "output_type": "display_data"
    },
    {
     "data": {
      "image/png": "[encoded data removed]",
      "text/plain": [
       "<Figure size 1296x576 with 1 Axes>"
      ]
     },
     "metadata": {},
     "output_type": "display_data"
    },
    {
     "data": {
      "image/png": "[encoded data removed]",
      "text/plain": [
       "<Figure size 1296x576 with 1 Axes>"
      ]
     },
     "metadata": {},
     "output_type": "display_data"
    },
    {
     "data": {
      "image/png": "[encoded data removed]",
      "text/plain": [
       "<Figure size 1296x576 with 1 Axes>"
      ]
     },
     "metadata": {},
     "output_type": "display_data"
    },
    {
     "data": {
      "image/png": "[encoded data removed]",
      "text/plain": [
       "<Figure size 1296x576 with 1 Axes>"
      ]
     },
     "metadata": {},
     "output_type": "display_data"
    },
    {
     "data": {
      "image/png": "[encoded data removed]",
      "text/plain": [
       "<Figure size 1296x576 with 1 Axes>"
      ]
     },
     "metadata": {},
     "output_type": "display_data"
    }
   ],
   "source": [
    "l= ['Bathroom', 'Rooms', 'Car', 'Type', 'Year','Regionname']\n",
    "for i in l:\n",
    "    sns.set(rc = {'figure.figsize':(18,8)})\n",
    "    plt.figure()\n",
    "    sns.countplot(x=i, data=data)"
   ]
  },
  {
   "cell_type": "markdown",
   "id": "152e0bc6",
   "metadata": {},
   "source": [
    "Observations:\n",
    "\n",
    "- Most properties sold were Houses <b>Type</b>. \n",
    "- Most properties were sold in Yr 2017; \n",
    "- Most houses have space for 1 or 2 <b>Cars</b>; \n",
    "- between 2 to 4 <b>Rooms</b> and 1 or 2 <b>Bathrooms</b>\n",
    "- Northern,Southern and Western Metropolitan <b>Regionnames</b> are most popular;\n"
   ]
  },
  {
   "cell_type": "markdown",
   "id": "e869c780",
   "metadata": {},
   "source": [
    "<b>Distribution of Continous Variables using histograms"
   ]
  },
  {
   "cell_type": "code",
   "execution_count": 51,
   "id": "c5564fc0",
   "metadata": {},
   "outputs": [
    {
     "data": {
      "image/png": "[encoded data removed]",
      "text/plain": [
       "<Figure size 792x360 with 1 Axes>"
      ]
     },
     "metadata": {},
     "output_type": "display_data"
    },
    {
     "data": {
      "image/png": "[encoded data removed]",
      "text/plain": [
       "<Figure size 792x360 with 1 Axes>"
      ]
     },
     "metadata": {},
     "output_type": "display_data"
    },
    {
     "data": {
      "image/png": "[encoded data removed]",
      "text/plain": [
       "<Figure size 792x360 with 1 Axes>"
      ]
     },
     "metadata": {},
     "output_type": "display_data"
    },
    {
     "data": {
      "image/png": "[encoded data removed]",
      "text/plain": [
       "<Figure size 792x360 with 1 Axes>"
      ]
     },
     "metadata": {},
     "output_type": "display_data"
    },
    {
     "data": {
      "image/png": "[encoded data removed]",
      "text/plain": [
       "<Figure size 792x360 with 1 Axes>"
      ]
     },
     "metadata": {},
     "output_type": "display_data"
    },
    {
     "data": {
      "image/png": "[encoded data removed]",
      "text/plain": [
       "<Figure size 792x360 with 1 Axes>"
      ]
     },
     "metadata": {},
     "output_type": "display_data"
    }
   ],
   "source": [
    "list= [data['Price'], data['Distance'], data['BuildingArea'], data['Age'], data['Propertycount'], data['Landsize']]\n",
    "for i in list:\n",
    "    plt.figure(figsize=(11,5))\n",
    "    sns.distplot(i, fit=norm, kde=False)"
   ]
  },
  {
   "cell_type": "code",
   "execution_count": 52,
   "id": "1a0aa855",
   "metadata": {},
   "outputs": [
    {
     "data": {
      "text/plain": [
       "(0.0, 800.0)"
      ]
     },
     "execution_count": 52,
     "metadata": {},
     "output_type": "execute_result"
    },
    {
     "data": {
      "image/png": "[encoded data removed]",
      "text/plain": [
       "<Figure size 864x576 with 1 Axes>"
      ]
     },
     "metadata": {},
     "output_type": "display_data"
    }
   ],
   "source": [
    "plt.figure(figsize=(12,8))\n",
    "sns.distplot(data['BuildingArea'], fit=norm, bins=100, kde=False)\n",
    "plt.xlim(0,800)"
   ]
  },
  {
   "cell_type": "code",
   "execution_count": 53,
   "id": "988312b0",
   "metadata": {},
   "outputs": [
    {
     "data": {
      "text/plain": [
       "Text(0.5, 1.0, 'Rooms & Price')"
      ]
     },
     "execution_count": 53,
     "metadata": {},
     "output_type": "execute_result"
    },
    {
     "data": {
      "image/png": "[encoded data removed]",
      "text/plain": [
       "<Figure size 1080x1080 with 4 Axes>"
      ]
     },
     "metadata": {},
     "output_type": "display_data"
    }
   ],
   "source": [
    "# Suplots of categorical features v price\n",
    "sns.set_style('darkgrid')\n",
    "f, axes = plt.subplots(2,2, figsize = (15,15))\n",
    "\n",
    "# Plot [0,0]\n",
    "sns.boxplot(data = data, x = 'Method', y = 'Price', ax = axes[0, 0])\n",
    "axes[0,0].set_xlabel('Method')\n",
    "axes[0,0].set_ylabel('Price')\n",
    "axes[0,0].set_title('Method & Price')\n",
    "\n",
    "# Plot [0,1]\n",
    "sns.violinplot(data = data, x = 'Year', y = 'Price', ax = axes[0, 1])\n",
    "axes[0,1].set_xlabel('Year')\n",
    "axes[0,1].set_ylabel('Price')\n",
    "axes[0,1].set_title('Year & Price')\n",
    "\n",
    "# Plot [1,0]\n",
    "sns.boxplot(x = 'Type', y = 'Price', data = data, ax = axes[1,0])\n",
    "axes[1,0].set_xlabel('Type')\n",
    "axes[1,0].set_ylabel('Price')\n",
    "axes[1,0].set_title('Type & Price')\n",
    "\n",
    "# Plot [1,1]\n",
    "sns.boxplot(x = 'Rooms', y = 'Price', data = data, ax = axes[1,1])\n",
    "axes[1,1].set_xlabel('Rooms')\n",
    "axes[1,1].set_ylabel('Price')\n",
    "axes[1,1].set_title('Rooms & Price')"
   ]
  },
  {
   "cell_type": "markdown",
   "id": "c94dfd17",
   "metadata": {},
   "source": [
    "Observations : \n",
    "\n",
    "- <b>Methods</b> do not seem to provide much info or correlation on sale.  \n",
    "- 2017 was the year with the highest number of sales with high price outliers. \n",
    "- 2018 has less activity. Not sure about the cutoff point of sales data in Yr 2018. \n",
    "- It seems that there is a slight linear increase in Price for more <b>Rooms</b>. \n",
    "- Properties with 9, 12 and 16 <b>Rooms</b> have very few sales and 0 variability. \n",
    "- House <b>Type</b> is an important indicator for indication of Price whereby \"h\" (houses) cost more and have a higher price variability."
   ]
  },
  {
   "cell_type": "markdown",
   "id": "e016decd",
   "metadata": {},
   "source": [
    "<b>Correlation matrix and scatterplots"
   ]
  },
  {
   "cell_type": "code",
   "execution_count": 54,
   "id": "48f0961a",
   "metadata": {},
   "outputs": [],
   "source": [
    "attributes= ['Price', 'Distance', 'Bathroom', 'Rooms', 'Car', 'Landsize', 'BuildingArea', 'Age', 'Lattitude', 'Longtitude', \n",
    "             'Year','Propertycount','max_sub_id','max_c_id','min_t_id']\n",
    "\n",
    "corr1 = data[attributes].corr()"
   ]
  },
  {
   "cell_type": "code",
   "execution_count": 55,
   "id": "b867f11b",
   "metadata": {},
   "outputs": [
    {
     "data": {
      "text/plain": [
       "<AxesSubplot:>"
      ]
     },
     "execution_count": 55,
     "metadata": {},
     "output_type": "execute_result"
    },
    {
     "data": {
      "image/png": "[encoded data removed]",
      "text/plain": [
       "<Figure size 1296x576 with 2 Axes>"
      ]
     },
     "metadata": {},
     "output_type": "display_data"
    }
   ],
   "source": [
    "sns.heatmap(corr1)"
   ]
  },
  {
   "cell_type": "code",
   "execution_count": 56,
   "id": "c0be1943",
   "metadata": {},
   "outputs": [
    {
     "data": {
      "text/html": [
       "<div>\n",
       "<style scoped>\n",
       "    .dataframe tbody tr th:only-of-type {\n",
       "        vertical-align: middle;\n",
       "    }\n",
       "\n",
       "    .dataframe tbody tr th {\n",
       "        vertical-align: top;\n",
       "    }\n",
       "\n",
       "    .dataframe thead th {\n",
       "        text-align: right;\n",
       "    }\n",
       "</style>\n",
       "<table border=\"1\" class=\"dataframe\">\n",
       "  <thead>\n",
       "    <tr style=\"text-align: right;\">\n",
       "      <th></th>\n",
       "      <th>Price</th>\n",
       "      <th>Distance</th>\n",
       "      <th>Bathroom</th>\n",
       "      <th>Rooms</th>\n",
       "      <th>Car</th>\n",
       "      <th>Landsize</th>\n",
       "      <th>BuildingArea</th>\n",
       "      <th>Age</th>\n",
       "      <th>Lattitude</th>\n",
       "      <th>Longtitude</th>\n",
       "      <th>Year</th>\n",
       "      <th>Propertycount</th>\n",
       "      <th>max_sub_id</th>\n",
       "      <th>max_c_id</th>\n",
       "      <th>min_t_id</th>\n",
       "    </tr>\n",
       "  </thead>\n",
       "  <tbody>\n",
       "    <tr>\n",
       "      <th>Price</th>\n",
       "      <td>1.000000</td>\n",
       "      <td>-0.206953</td>\n",
       "      <td>0.399267</td>\n",
       "      <td>0.466312</td>\n",
       "      <td>0.207780</td>\n",
       "      <td>0.035678</td>\n",
       "      <td>0.309520</td>\n",
       "      <td>0.230046</td>\n",
       "      <td>-0.190673</td>\n",
       "      <td>0.170317</td>\n",
       "      <td>-0.022161</td>\n",
       "      <td>-0.058061</td>\n",
       "      <td>0.444649</td>\n",
       "      <td>0.418217</td>\n",
       "      <td>0.090094</td>\n",
       "    </tr>\n",
       "    <tr>\n",
       "      <th>Distance</th>\n",
       "      <td>-0.206953</td>\n",
       "      <td>1.000000</td>\n",
       "      <td>0.126753</td>\n",
       "      <td>0.282828</td>\n",
       "      <td>0.187909</td>\n",
       "      <td>0.094151</td>\n",
       "      <td>0.098452</td>\n",
       "      <td>-0.214833</td>\n",
       "      <td>-0.086049</td>\n",
       "      <td>0.179411</td>\n",
       "      <td>0.232328</td>\n",
       "      <td>-0.026396</td>\n",
       "      <td>-0.428216</td>\n",
       "      <td>-0.361382</td>\n",
       "      <td>0.069124</td>\n",
       "    </tr>\n",
       "    <tr>\n",
       "      <th>Bathroom</th>\n",
       "      <td>0.399267</td>\n",
       "      <td>0.126753</td>\n",
       "      <td>1.000000</td>\n",
       "      <td>0.533144</td>\n",
       "      <td>0.458680</td>\n",
       "      <td>0.049482</td>\n",
       "      <td>0.398132</td>\n",
       "      <td>-0.115937</td>\n",
       "      <td>-0.041171</td>\n",
       "      <td>0.083085</td>\n",
       "      <td>0.057794</td>\n",
       "      <td>-0.041039</td>\n",
       "      <td>0.057870</td>\n",
       "      <td>0.052356</td>\n",
       "      <td>0.120033</td>\n",
       "    </tr>\n",
       "    <tr>\n",
       "      <th>Rooms</th>\n",
       "      <td>0.466312</td>\n",
       "      <td>0.282828</td>\n",
       "      <td>0.533144</td>\n",
       "      <td>1.000000</td>\n",
       "      <td>0.342479</td>\n",
       "      <td>0.060475</td>\n",
       "      <td>0.367048</td>\n",
       "      <td>0.002486</td>\n",
       "      <td>0.020205</td>\n",
       "      <td>0.072905</td>\n",
       "      <td>0.090153</td>\n",
       "      <td>-0.078379</td>\n",
       "      <td>-0.100616</td>\n",
       "      <td>-0.050820</td>\n",
       "      <td>0.190892</td>\n",
       "    </tr>\n",
       "    <tr>\n",
       "      <th>Car</th>\n",
       "      <td>0.207780</td>\n",
       "      <td>0.187909</td>\n",
       "      <td>0.458680</td>\n",
       "      <td>0.342479</td>\n",
       "      <td>1.000000</td>\n",
       "      <td>0.066205</td>\n",
       "      <td>0.193514</td>\n",
       "      <td>-0.065694</td>\n",
       "      <td>0.003250</td>\n",
       "      <td>0.015321</td>\n",
       "      <td>0.038321</td>\n",
       "      <td>-0.026241</td>\n",
       "      <td>-0.079598</td>\n",
       "      <td>-0.066018</td>\n",
       "      <td>0.017851</td>\n",
       "    </tr>\n",
       "    <tr>\n",
       "      <th>Landsize</th>\n",
       "      <td>0.035678</td>\n",
       "      <td>0.094151</td>\n",
       "      <td>0.049482</td>\n",
       "      <td>0.060475</td>\n",
       "      <td>0.066205</td>\n",
       "      <td>1.000000</td>\n",
       "      <td>0.045248</td>\n",
       "      <td>-0.020577</td>\n",
       "      <td>0.031512</td>\n",
       "      <td>0.013998</td>\n",
       "      <td>0.041043</td>\n",
       "      <td>-0.025119</td>\n",
       "      <td>-0.019309</td>\n",
       "      <td>-0.021861</td>\n",
       "      <td>-0.020881</td>\n",
       "    </tr>\n",
       "    <tr>\n",
       "      <th>BuildingArea</th>\n",
       "      <td>0.309520</td>\n",
       "      <td>0.098452</td>\n",
       "      <td>0.398132</td>\n",
       "      <td>0.367048</td>\n",
       "      <td>0.193514</td>\n",
       "      <td>0.045248</td>\n",
       "      <td>1.000000</td>\n",
       "      <td>-0.061639</td>\n",
       "      <td>-0.021555</td>\n",
       "      <td>0.056214</td>\n",
       "      <td>0.040479</td>\n",
       "      <td>-0.033753</td>\n",
       "      <td>0.033296</td>\n",
       "      <td>0.030410</td>\n",
       "      <td>0.066793</td>\n",
       "    </tr>\n",
       "    <tr>\n",
       "      <th>Age</th>\n",
       "      <td>0.230046</td>\n",
       "      <td>-0.214833</td>\n",
       "      <td>-0.115937</td>\n",
       "      <td>0.002486</td>\n",
       "      <td>-0.065694</td>\n",
       "      <td>-0.020577</td>\n",
       "      <td>-0.061639</td>\n",
       "      <td>1.000000</td>\n",
       "      <td>-0.071203</td>\n",
       "      <td>0.010986</td>\n",
       "      <td>-0.071920</td>\n",
       "      <td>-0.014338</td>\n",
       "      <td>0.146738</td>\n",
       "      <td>0.118014</td>\n",
       "      <td>-0.093381</td>\n",
       "    </tr>\n",
       "    <tr>\n",
       "      <th>Lattitude</th>\n",
       "      <td>-0.190673</td>\n",
       "      <td>-0.086049</td>\n",
       "      <td>-0.041171</td>\n",
       "      <td>0.020205</td>\n",
       "      <td>0.003250</td>\n",
       "      <td>0.031512</td>\n",
       "      <td>-0.021555</td>\n",
       "      <td>-0.071203</td>\n",
       "      <td>1.000000</td>\n",
       "      <td>-0.352088</td>\n",
       "      <td>0.036900</td>\n",
       "      <td>0.024226</td>\n",
       "      <td>-0.254082</td>\n",
       "      <td>-0.339600</td>\n",
       "      <td>0.004417</td>\n",
       "    </tr>\n",
       "    <tr>\n",
       "      <th>Longtitude</th>\n",
       "      <td>0.170317</td>\n",
       "      <td>0.179411</td>\n",
       "      <td>0.083085</td>\n",
       "      <td>0.072905</td>\n",
       "      <td>0.015321</td>\n",
       "      <td>0.013998</td>\n",
       "      <td>0.056214</td>\n",
       "      <td>0.010986</td>\n",
       "      <td>-0.352088</td>\n",
       "      <td>1.000000</td>\n",
       "      <td>0.037361</td>\n",
       "      <td>0.022521</td>\n",
       "      <td>0.160596</td>\n",
       "      <td>0.232275</td>\n",
       "      <td>0.004814</td>\n",
       "    </tr>\n",
       "    <tr>\n",
       "      <th>Year</th>\n",
       "      <td>-0.022161</td>\n",
       "      <td>0.232328</td>\n",
       "      <td>0.057794</td>\n",
       "      <td>0.090153</td>\n",
       "      <td>0.038321</td>\n",
       "      <td>0.041043</td>\n",
       "      <td>0.040479</td>\n",
       "      <td>-0.071920</td>\n",
       "      <td>0.036900</td>\n",
       "      <td>0.037361</td>\n",
       "      <td>1.000000</td>\n",
       "      <td>0.012015</td>\n",
       "      <td>-0.145481</td>\n",
       "      <td>-0.134485</td>\n",
       "      <td>0.024028</td>\n",
       "    </tr>\n",
       "    <tr>\n",
       "      <th>Propertycount</th>\n",
       "      <td>-0.058061</td>\n",
       "      <td>-0.026396</td>\n",
       "      <td>-0.041039</td>\n",
       "      <td>-0.078379</td>\n",
       "      <td>-0.026241</td>\n",
       "      <td>-0.025119</td>\n",
       "      <td>-0.033753</td>\n",
       "      <td>-0.014338</td>\n",
       "      <td>0.024226</td>\n",
       "      <td>0.022521</td>\n",
       "      <td>0.012015</td>\n",
       "      <td>1.000000</td>\n",
       "      <td>0.150917</td>\n",
       "      <td>0.034596</td>\n",
       "      <td>-0.051557</td>\n",
       "    </tr>\n",
       "    <tr>\n",
       "      <th>max_sub_id</th>\n",
       "      <td>0.444649</td>\n",
       "      <td>-0.428216</td>\n",
       "      <td>0.057870</td>\n",
       "      <td>-0.100616</td>\n",
       "      <td>-0.079598</td>\n",
       "      <td>-0.019309</td>\n",
       "      <td>0.033296</td>\n",
       "      <td>0.146738</td>\n",
       "      <td>-0.254082</td>\n",
       "      <td>0.160596</td>\n",
       "      <td>-0.145481</td>\n",
       "      <td>0.150917</td>\n",
       "      <td>1.000000</td>\n",
       "      <td>0.680674</td>\n",
       "      <td>-0.098651</td>\n",
       "    </tr>\n",
       "    <tr>\n",
       "      <th>max_c_id</th>\n",
       "      <td>0.418217</td>\n",
       "      <td>-0.361382</td>\n",
       "      <td>0.052356</td>\n",
       "      <td>-0.050820</td>\n",
       "      <td>-0.066018</td>\n",
       "      <td>-0.021861</td>\n",
       "      <td>0.030410</td>\n",
       "      <td>0.118014</td>\n",
       "      <td>-0.339600</td>\n",
       "      <td>0.232275</td>\n",
       "      <td>-0.134485</td>\n",
       "      <td>0.034596</td>\n",
       "      <td>0.680674</td>\n",
       "      <td>1.000000</td>\n",
       "      <td>-0.020203</td>\n",
       "    </tr>\n",
       "    <tr>\n",
       "      <th>min_t_id</th>\n",
       "      <td>0.090094</td>\n",
       "      <td>0.069124</td>\n",
       "      <td>0.120033</td>\n",
       "      <td>0.190892</td>\n",
       "      <td>0.017851</td>\n",
       "      <td>-0.020881</td>\n",
       "      <td>0.066793</td>\n",
       "      <td>-0.093381</td>\n",
       "      <td>0.004417</td>\n",
       "      <td>0.004814</td>\n",
       "      <td>0.024028</td>\n",
       "      <td>-0.051557</td>\n",
       "      <td>-0.098651</td>\n",
       "      <td>-0.020203</td>\n",
       "      <td>1.000000</td>\n",
       "    </tr>\n",
       "  </tbody>\n",
       "</table>\n",
       "</div>"
      ],
      "text/plain": [
       "                  Price  Distance  Bathroom     Rooms       Car  Landsize  \\\n",
       "Price          1.000000 -0.206953  0.399267  0.466312  0.207780  0.035678   \n",
       "Distance      -0.206953  1.000000  0.126753  0.282828  0.187909  0.094151   \n",
       "Bathroom       0.399267  0.126753  1.000000  0.533144  0.458680  0.049482   \n",
       "Rooms          0.466312  0.282828  0.533144  1.000000  0.342479  0.060475   \n",
       "Car            0.207780  0.187909  0.458680  0.342479  1.000000  0.066205   \n",
       "Landsize       0.035678  0.094151  0.049482  0.060475  0.066205  1.000000   \n",
       "BuildingArea   0.309520  0.098452  0.398132  0.367048  0.193514  0.045248   \n",
       "Age            0.230046 -0.214833 -0.115937  0.002486 -0.065694 -0.020577   \n",
       "Lattitude     -0.190673 -0.086049 -0.041171  0.020205  0.003250  0.031512   \n",
       "Longtitude     0.170317  0.179411  0.083085  0.072905  0.015321  0.013998   \n",
       "Year          -0.022161  0.232328  0.057794  0.090153  0.038321  0.041043   \n",
       "Propertycount -0.058061 -0.026396 -0.041039 -0.078379 -0.026241 -0.025119   \n",
       "max_sub_id     0.444649 -0.428216  0.057870 -0.100616 -0.079598 -0.019309   \n",
       "max_c_id       0.418217 -0.361382  0.052356 -0.050820 -0.066018 -0.021861   \n",
       "min_t_id       0.090094  0.069124  0.120033  0.190892  0.017851 -0.020881   \n",
       "\n",
       "               BuildingArea       Age  Lattitude  Longtitude      Year  \\\n",
       "Price              0.309520  0.230046  -0.190673    0.170317 -0.022161   \n",
       "Distance           0.098452 -0.214833  -0.086049    0.179411  0.232328   \n",
       "Bathroom           0.398132 -0.115937  -0.041171    0.083085  0.057794   \n",
       "Rooms              0.367048  0.002486   0.020205    0.072905  0.090153   \n",
       "Car                0.193514 -0.065694   0.003250    0.015321  0.038321   \n",
       "Landsize           0.045248 -0.020577   0.031512    0.013998  0.041043   \n",
       "BuildingArea       1.000000 -0.061639  -0.021555    0.056214  0.040479   \n",
       "Age               -0.061639  1.000000  -0.071203    0.010986 -0.071920   \n",
       "Lattitude         -0.021555 -0.071203   1.000000   -0.352088  0.036900   \n",
       "Longtitude         0.056214  0.010986  -0.352088    1.000000  0.037361   \n",
       "Year               0.040479 -0.071920   0.036900    0.037361  1.000000   \n",
       "Propertycount     -0.033753 -0.014338   0.024226    0.022521  0.012015   \n",
       "max_sub_id         0.033296  0.146738  -0.254082    0.160596 -0.145481   \n",
       "max_c_id           0.030410  0.118014  -0.339600    0.232275 -0.134485   \n",
       "min_t_id           0.066793 -0.093381   0.004417    0.004814  0.024028   \n",
       "\n",
       "               Propertycount  max_sub_id  max_c_id  min_t_id  \n",
       "Price              -0.058061    0.444649  0.418217  0.090094  \n",
       "Distance           -0.026396   -0.428216 -0.361382  0.069124  \n",
       "Bathroom           -0.041039    0.057870  0.052356  0.120033  \n",
       "Rooms              -0.078379   -0.100616 -0.050820  0.190892  \n",
       "Car                -0.026241   -0.079598 -0.066018  0.017851  \n",
       "Landsize           -0.025119   -0.019309 -0.021861 -0.020881  \n",
       "BuildingArea       -0.033753    0.033296  0.030410  0.066793  \n",
       "Age                -0.014338    0.146738  0.118014 -0.093381  \n",
       "Lattitude           0.024226   -0.254082 -0.339600  0.004417  \n",
       "Longtitude          0.022521    0.160596  0.232275  0.004814  \n",
       "Year                0.012015   -0.145481 -0.134485  0.024028  \n",
       "Propertycount       1.000000    0.150917  0.034596 -0.051557  \n",
       "max_sub_id          0.150917    1.000000  0.680674 -0.098651  \n",
       "max_c_id            0.034596    0.680674  1.000000 -0.020203  \n",
       "min_t_id           -0.051557   -0.098651 -0.020203  1.000000  "
      ]
     },
     "execution_count": 56,
     "metadata": {},
     "output_type": "execute_result"
    }
   ],
   "source": [
    "corr1"
   ]
  },
  {
   "cell_type": "markdown",
   "id": "8c295810",
   "metadata": {},
   "source": [
    "The attributes with the highest corr with Price are : \n",
    "\n",
    "- Rooms (0.4663)\n",
    "- max_sub_id (0.4446) [derived from Suburb]\n",
    "- max_c_id (0.4182) [derived from CouncilArea]\n",
    "- Bathroom (0.3993) \n",
    "- BuildingArea (0.3095)\n",
    "- Age (0.230046)\n",
    "- Car (0.2078)\n",
    "- Distance (-0.2069)\n",
    "- Lattitude (-0.1906)\n",
    "- Longitude (0.1703)"
   ]
  },
  {
   "cell_type": "code",
   "execution_count": 57,
   "id": "bcb78092",
   "metadata": {},
   "outputs": [
    {
     "data": {
      "text/plain": [
       "<AxesSubplot:xlabel='max_c_id', ylabel='Price'>"
      ]
     },
     "execution_count": 57,
     "metadata": {},
     "output_type": "execute_result"
    },
    {
     "data": {
      "image/png": "[encoded data removed]",
      "text/plain": [
       "<Figure size 1080x1080 with 8 Axes>"
      ]
     },
     "metadata": {},
     "output_type": "display_data"
    }
   ],
   "source": [
    "# Scatterplot to show relationship with Price \n",
    "f, axes = plt.subplots(figsize = (15,15))\n",
    "plt.subplot(421)\n",
    "sns.regplot(data= data, x='BuildingArea', y='Price')\n",
    "plt.subplot(422)\n",
    "sns.regplot(data= data, x='Age', y='Price')\n",
    "plt.subplot(423)\n",
    "sns.regplot(data= data, x='Rooms', y='Price')\n",
    "plt.subplot(424)\n",
    "sns.regplot(data= data, x='Distance', y='Price')\n",
    "plt.subplot(425)\n",
    "sns.regplot(data= data, x='Bathroom', y='Price')\n",
    "plt.subplot(426)\n",
    "sns.regplot(data= data, x='Car', y='Price')\n",
    "plt.subplot(427)\n",
    "sns.regplot(data= data, x='max_sub_id', y='Price')\n",
    "plt.subplot(428)\n",
    "sns.regplot(data= data, x='max_c_id', y='Price')"
   ]
  },
  {
   "cell_type": "code",
   "execution_count": null,
   "id": "551da9a9",
   "metadata": {},
   "outputs": [],
   "source": [
    "sns.lmplot(data= data, x='BuildingArea', y= 'Price', hue='Type')"
   ]
  },
  {
   "cell_type": "code",
   "execution_count": null,
   "id": "97c5b762",
   "metadata": {},
   "outputs": [],
   "source": [
    "sns.color_palette(\"husl\", 8)\n",
    "sns.lmplot(data= data, x='Rooms', y= 'Price', hue='Type')"
   ]
  },
  {
   "cell_type": "markdown",
   "id": "4d869779",
   "metadata": {},
   "source": [
    "### Machine learning"
   ]
  },
  {
   "cell_type": "code",
   "execution_count": 58,
   "id": "1a26830f",
   "metadata": {},
   "outputs": [],
   "source": [
    "# import all what you need for machine learning\n",
    "import sklearn\n",
    "from sklearn.model_selection import cross_val_predict\n",
    "from sklearn.model_selection import cross_val_score\n",
    "from sklearn.model_selection import cross_validate\n",
    "from sklearn.model_selection import train_test_split\n",
    "from sklearn.linear_model import LinearRegression\n",
    "from sklearn.ensemble import RandomForestRegressor\n",
    "from sklearn.tree import DecisionTreeRegressor\n",
    "import xgboost as xgb\n",
    "from xgboost import XGBRegressor\n",
    "from sklearn.ensemble import GradientBoostingRegressor\n",
    "from sklearn.model_selection import RandomizedSearchCV\n",
    "from sklearn.model_selection import GridSearchCV\n",
    "from sklearn.linear_model import LinearRegression\n",
    "from sklearn.preprocessing import RobustScaler"
   ]
  },
  {
   "cell_type": "code",
   "execution_count": 59,
   "id": "50bcf232",
   "metadata": {},
   "outputs": [
    {
     "name": "stdout",
     "output_type": "stream",
     "text": [
      "<class 'pandas.core.frame.DataFrame'>\n",
      "Int64Index: 21795 entries, 5799 to 23654\n",
      "Data columns (total 27 columns):\n",
      " #   Column         Non-Null Count  Dtype         \n",
      "---  ------         --------------  -----         \n",
      " 0   Suburb         21795 non-null  object        \n",
      " 1   Address        21795 non-null  object        \n",
      " 2   Rooms          21795 non-null  int64         \n",
      " 3   Type           21795 non-null  object        \n",
      " 4   Price          21795 non-null  float64       \n",
      " 5   Method         21795 non-null  object        \n",
      " 6   SellerG        21795 non-null  object        \n",
      " 7   Date           21795 non-null  object        \n",
      " 8   Distance       21795 non-null  float64       \n",
      " 9   Postcode       21795 non-null  float64       \n",
      " 10  Bathroom       21795 non-null  int64         \n",
      " 11  Car            21795 non-null  int64         \n",
      " 12  Landsize       21795 non-null  float64       \n",
      " 13  BuildingArea   21795 non-null  float64       \n",
      " 14  YearBuilt      21795 non-null  int64         \n",
      " 15  CouncilArea    21795 non-null  object        \n",
      " 16  Lattitude      21795 non-null  float64       \n",
      " 17  Longtitude     21795 non-null  float64       \n",
      " 18  Regionname     21795 non-null  object        \n",
      " 19  Propertycount  21795 non-null  float64       \n",
      " 20  Age            21795 non-null  int64         \n",
      " 21  Dateframe      21795 non-null  datetime64[ns]\n",
      " 22  DayofYr        21795 non-null  int64         \n",
      " 23  Year           21795 non-null  int64         \n",
      " 24  max_sub_id     21795 non-null  float64       \n",
      " 25  max_c_id       21795 non-null  float64       \n",
      " 26  min_t_id       21795 non-null  float64       \n",
      "dtypes: datetime64[ns](1), float64(11), int64(7), object(8)\n",
      "memory usage: 5.2+ MB\n"
     ]
    }
   ],
   "source": [
    "data.info()"
   ]
  },
  {
   "cell_type": "code",
   "execution_count": 60,
   "id": "37d98f87",
   "metadata": {},
   "outputs": [
    {
     "name": "stdout",
     "output_type": "stream",
     "text": [
      "<class 'pandas.core.frame.DataFrame'>\n",
      "Int64Index: 21795 entries, 5799 to 23654\n",
      "Data columns (total 26 columns):\n",
      " #   Column                                 Non-Null Count  Dtype  \n",
      "---  ------                                 --------------  -----  \n",
      " 0   Rooms                                  21795 non-null  int64  \n",
      " 1   Price                                  21795 non-null  float64\n",
      " 2   Distance                               21795 non-null  float64\n",
      " 3   Bathroom                               21795 non-null  int64  \n",
      " 4   Car                                    21795 non-null  int64  \n",
      " 5   Landsize                               21795 non-null  float64\n",
      " 6   BuildingArea                           21795 non-null  float64\n",
      " 7   Lattitude                              21795 non-null  float64\n",
      " 8   Longtitude                             21795 non-null  float64\n",
      " 9   Propertycount                          21795 non-null  float64\n",
      " 10  Age                                    21795 non-null  int64  \n",
      " 11  Year                                   21795 non-null  int64  \n",
      " 12  max_sub_id                             21795 non-null  float64\n",
      " 13  max_c_id                               21795 non-null  float64\n",
      " 14  min_t_id                               21795 non-null  float64\n",
      " 15  Type_h                                 21795 non-null  uint8  \n",
      " 16  Type_t                                 21795 non-null  uint8  \n",
      " 17  Type_u                                 21795 non-null  uint8  \n",
      " 18  Regionname_Eastern Metropolitan        21795 non-null  uint8  \n",
      " 19  Regionname_Eastern Victoria            21795 non-null  uint8  \n",
      " 20  Regionname_Northern Metropolitan       21795 non-null  uint8  \n",
      " 21  Regionname_Northern Victoria           21795 non-null  uint8  \n",
      " 22  Regionname_South-Eastern Metropolitan  21795 non-null  uint8  \n",
      " 23  Regionname_Southern Metropolitan       21795 non-null  uint8  \n",
      " 24  Regionname_Western Metropolitan        21795 non-null  uint8  \n",
      " 25  Regionname_Western Victoria            21795 non-null  uint8  \n",
      "dtypes: float64(10), int64(5), uint8(11)\n",
      "memory usage: 3.4 MB\n"
     ]
    }
   ],
   "source": [
    "#One-hot encoding for categorical variables\n",
    "\n",
    "#dummy variable - apply OneHot encoding to get df\n",
    "OneHot= pd.get_dummies(data, columns= ['Type', 'Regionname'])\n",
    "#drop useless variables\n",
    "OneHot= OneHot.drop(['Suburb', 'Address', 'Method', 'SellerG', 'Date', 'Postcode', 'CouncilArea',\n",
    "            'YearBuilt', 'Dateframe', 'DayofYr'], axis=1)\n",
    "#check variables\n",
    "OneHot.info()"
   ]
  },
  {
   "cell_type": "code",
   "execution_count": 61,
   "id": "6be034ff",
   "metadata": {},
   "outputs": [
    {
     "data": {
      "text/plain": [
       "(21795, 26)"
      ]
     },
     "execution_count": 61,
     "metadata": {},
     "output_type": "execute_result"
    }
   ],
   "source": [
    "OneHot.shape"
   ]
  },
  {
   "cell_type": "markdown",
   "id": "41a2f4e3",
   "metadata": {},
   "source": [
    "## Feature Scaling \n",
    "\n",
    "The scales of the features range from single digit for Rooms and Age to millions for Price. Let's apply scaling to standardize them into a fixed range to facilitate standard interpretation by the model. "
   ]
  },
  {
   "cell_type": "code",
   "execution_count": 64,
   "id": "c385dcc7",
   "metadata": {},
   "outputs": [],
   "source": [
    "X = OneHot.drop(\"Price\", axis=1)\n",
    "Y = OneHot[\"Price\"]"
   ]
  },
  {
   "cell_type": "code",
   "execution_count": 65,
   "id": "b3df6816",
   "metadata": {},
   "outputs": [],
   "source": [
    "# Choose RobustScaler for it's robustness to outliers\n",
    "\n",
    "scaler = RobustScaler()\n",
    "OneHot2= scaler.fit_transform(OneHot.astype(np.float64))"
   ]
  },
  {
   "cell_type": "code",
   "execution_count": 66,
   "id": "7def7857",
   "metadata": {},
   "outputs": [],
   "source": [
    "from sklearn.model_selection import train_test_split\n",
    "x_train, x_test, y_train, y_test = train_test_split(X,Y, test_size = .20, random_state= 42)"
   ]
  },
  {
   "cell_type": "code",
   "execution_count": 67,
   "id": "0ed2595c",
   "metadata": {},
   "outputs": [
    {
     "data": {
      "text/plain": [
       "GradientBoostingRegressor()"
      ]
     },
     "execution_count": 67,
     "metadata": {},
     "output_type": "execute_result"
    }
   ],
   "source": [
    "#fit decision tree\n",
    "tree = DecisionTreeRegressor()\n",
    "tree.fit(x_train, y_train)\n",
    "#fit random forest\n",
    "forest = RandomForestRegressor(n_jobs=-1)\n",
    "forest.fit(x_train, y_train)\n",
    "#fit regression\n",
    "lin_reg = LinearRegression(n_jobs=-1)\n",
    "lin_reg.fit(x_train, y_train)\n",
    "#fit xgb\n",
    "xgb = XGBRegressor(learning_rate=0.1,use_label_encoder=False,eval_metric='rmse')\n",
    "xgb.fit(x_train, y_train)\n",
    "#fit gradientbooster\n",
    "gb = GradientBoostingRegressor(learning_rate=0.1,loss ='squared_error')\n",
    "gb.fit(x_train, y_train)"
   ]
  },
  {
   "cell_type": "code",
   "execution_count": 68,
   "id": "c9b0ac59",
   "metadata": {},
   "outputs": [
    {
     "name": "stdout",
     "output_type": "stream",
     "text": [
      "RMSE of lin_reg = 394822.61\n",
      "RMSE of random forest = 139802.59\n",
      "RMSE of decision tree = 96041.63\n",
      "RMSE of XGB = 223985.13\n",
      "RMSE of GradientBoost = 292161.88\n"
     ]
    }
   ],
   "source": [
    "models= [('lin_reg', lin_reg), ('random forest', forest), ('decision tree', tree),('XGB',xgb),('GradientBoost',gb)]\n",
    "from sklearn.metrics import mean_squared_error\n",
    "for i, model in models:    \n",
    "    predictions = model.predict(x_train)\n",
    "    MSE = mean_squared_error(y_train, predictions)\n",
    "    RMSE = np.sqrt(MSE)\n",
    "    msg = \"%s = %.2f\" % (i, round(RMSE, 2))\n",
    "    print('RMSE of', msg)"
   ]
  },
  {
   "cell_type": "code",
   "execution_count": 69,
   "id": "d2267430",
   "metadata": {},
   "outputs": [
    {
     "name": "stdout",
     "output_type": "stream",
     "text": [
      "Accuracy of lin_reg= 72.49 %\n",
      "Accuracy of random forest= 93.00 %\n",
      "Accuracy of decision tree= 97.77 %\n",
      "Accuracy of XGB= 86.39 %\n",
      "Accuracy of GradientBoost= 82.64 %\n"
     ]
    }
   ],
   "source": [
    "for i, model in models:\n",
    "    # Make predictions on train data\n",
    "    predictions = model.predict(x_train)\n",
    "    # Performance metrics\n",
    "    errors = abs(predictions - y_train)\n",
    "    # Calculate mean absolute percentage error (MAPE)\n",
    "    mape = np.mean(100 * (errors / y_train))\n",
    "    # Calculate and display accuracy\n",
    "    accuracy = 100 - mape    \n",
    "    #print result\n",
    "    msg = \"%s= %.2f\"% (i, round(accuracy, 2))\n",
    "    print('Accuracy of', msg,'%')"
   ]
  },
  {
   "cell_type": "markdown",
   "id": "09a9ff72",
   "metadata": {},
   "source": [
    "Based on the model with the lowest error (RMSE score), random forest is the best and the model accuracy is also the highest followed by XGB. \n",
    "\n",
    "As this evaluation is applied on the train set, the risk of overfitting is quite high. "
   ]
  },
  {
   "cell_type": "markdown",
   "id": "3b5f3004",
   "metadata": {},
   "source": [
    "## Comparing Model using Cross Validation"
   ]
  },
  {
   "cell_type": "code",
   "execution_count": 70,
   "id": "76ba320f",
   "metadata": {},
   "outputs": [],
   "source": [
    "models= [('lin_reg', lin_reg), ('forest', forest), ('dt', tree),('XGB',xgb),('GradientBoost',gb)]\n",
    "scoring = ['neg_mean_squared_error', 'neg_mean_absolute_error', 'r2']\n",
    "\n",
    "#3 different scoring metrics for each model where results[0] will be lin_reg x MSE, results[1] lin_reg x MSE and \n",
    "# so on until results [14], where we stored gb x r2\n",
    "\n",
    "results= []\n",
    "metric= []\n",
    "for name, model in models:\n",
    "    for i in scoring:\n",
    "        scores = cross_validate(model, x_train, y_train, scoring=i, cv=10, return_train_score=True)\n",
    "        results.append(scores)"
   ]
  },
  {
   "cell_type": "code",
   "execution_count": 71,
   "id": "4ed14ce3",
   "metadata": {},
   "outputs": [],
   "source": [
    "#FOR LINEAR REGRESSION\n",
    "#\n",
    "LR_RMSE_mean = np.sqrt(-results[0]['test_score'].mean())\n",
    "LR_RMSE_std= results[0]['test_score'].std()\n",
    "LR_MAE_mean = -results[1]['test_score'].mean()\n",
    "LR_MAE_std= results[1]['test_score'].std()\n",
    "LR_r2_mean = results[2]['test_score'].mean()\n",
    "LR_r2_std = results[2]['test_score'].std()\n",
    "\n",
    "#THIS IS FOR RANDOM FOREST\n",
    "RF_RMSE_mean = np.sqrt(-results[3]['test_score'].mean())\n",
    "RF_RMSE_std= results[3]['test_score'].std()\n",
    "RF_MAE_mean = -results[4]['test_score'].mean()\n",
    "RF_MAE_std= results[4]['test_score'].std()\n",
    "RF_r2_mean = results[5]['test_score'].mean()\n",
    "RF_r2_std = results[5]['test_score'].std()\n",
    "\n",
    "#THIS IS FOR DECISIONTREE\n",
    "DT_RMSE_mean = np.sqrt(-results[6]['test_score'].mean())\n",
    "DT_RMSE_std= results[6]['test_score'].std()\n",
    "DT_MAE_mean = -results[7]['test_score'].mean()\n",
    "DT_MAE_std= results[7]['test_score'].std()\n",
    "DT_r2_mean = results[8]['test_score'].mean()\n",
    "DT_r2_std = results[8]['test_score'].std()\n",
    "\n",
    "#XGB\n",
    "XGB_RMSE_mean = np.sqrt(-results[9]['test_score'].mean())\n",
    "XGB_RMSE_std= results[9]['test_score'].std()\n",
    "XGB_MAE_mean = -results[10]['test_score'].mean()\n",
    "XGB_MAE_std= results[10]['test_score'].std()\n",
    "XGB_r2_mean = results[11]['test_score'].mean()\n",
    "XGB_r2_std = results[11]['test_score'].std()\n",
    "#GB\n",
    "GB_RMSE_mean = np.sqrt(-results[12]['test_score'].mean())\n",
    "GB_RMSE_std= results[12]['test_score'].std()\n",
    "GB_MAE_mean = -results[13]['test_score'].mean()\n",
    "GB_MAE_std= results[13]['test_score'].std()\n",
    "GB_r2_mean = results[14]['test_score'].mean()\n",
    "GB_r2_std = results[14]['test_score'].std()"
   ]
  },
  {
   "cell_type": "code",
   "execution_count": 72,
   "id": "bc8e8395",
   "metadata": {},
   "outputs": [
    {
     "data": {
      "text/html": [
       "<div>\n",
       "<style scoped>\n",
       "    .dataframe tbody tr th:only-of-type {\n",
       "        vertical-align: middle;\n",
       "    }\n",
       "\n",
       "    .dataframe tbody tr th {\n",
       "        vertical-align: top;\n",
       "    }\n",
       "\n",
       "    .dataframe thead th {\n",
       "        text-align: right;\n",
       "    }\n",
       "</style>\n",
       "<table border=\"1\" class=\"dataframe\">\n",
       "  <thead>\n",
       "    <tr style=\"text-align: right;\">\n",
       "      <th></th>\n",
       "      <th>Model</th>\n",
       "      <th>RMSE_mean</th>\n",
       "      <th>RMSE_std</th>\n",
       "      <th>MAE_mean</th>\n",
       "      <th>MAE_std</th>\n",
       "      <th>r2_mean</th>\n",
       "      <th>r2_std</th>\n",
       "    </tr>\n",
       "  </thead>\n",
       "  <tbody>\n",
       "    <tr>\n",
       "      <th>3</th>\n",
       "      <td>XGB</td>\n",
       "      <td>286718.266396</td>\n",
       "      <td>1.195693e+10</td>\n",
       "      <td>165964.239943</td>\n",
       "      <td>3889.124065</td>\n",
       "      <td>0.800714</td>\n",
       "      <td>0.015330</td>\n",
       "    </tr>\n",
       "    <tr>\n",
       "      <th>1</th>\n",
       "      <td>Random Forest</td>\n",
       "      <td>302508.853154</td>\n",
       "      <td>1.172934e+10</td>\n",
       "      <td>171483.657883</td>\n",
       "      <td>3768.346131</td>\n",
       "      <td>0.777869</td>\n",
       "      <td>0.015792</td>\n",
       "    </tr>\n",
       "    <tr>\n",
       "      <th>4</th>\n",
       "      <td>GB</td>\n",
       "      <td>312042.801138</td>\n",
       "      <td>1.492122e+10</td>\n",
       "      <td>185274.659900</td>\n",
       "      <td>3214.355414</td>\n",
       "      <td>0.764242</td>\n",
       "      <td>0.017344</td>\n",
       "    </tr>\n",
       "    <tr>\n",
       "      <th>2</th>\n",
       "      <td>Decision Trees</td>\n",
       "      <td>386210.337953</td>\n",
       "      <td>2.038584e+10</td>\n",
       "      <td>222551.815950</td>\n",
       "      <td>5504.977941</td>\n",
       "      <td>0.643746</td>\n",
       "      <td>0.021216</td>\n",
       "    </tr>\n",
       "    <tr>\n",
       "      <th>0</th>\n",
       "      <td>Linear Regression</td>\n",
       "      <td>395647.092560</td>\n",
       "      <td>2.416026e+10</td>\n",
       "      <td>253923.865115</td>\n",
       "      <td>5322.543702</td>\n",
       "      <td>0.621089</td>\n",
       "      <td>0.026033</td>\n",
       "    </tr>\n",
       "  </tbody>\n",
       "</table>\n",
       "</div>"
      ],
      "text/plain": [
       "               Model      RMSE_mean      RMSE_std       MAE_mean      MAE_std  \\\n",
       "3                XGB  286718.266396  1.195693e+10  165964.239943  3889.124065   \n",
       "1      Random Forest  302508.853154  1.172934e+10  171483.657883  3768.346131   \n",
       "4                 GB  312042.801138  1.492122e+10  185274.659900  3214.355414   \n",
       "2     Decision Trees  386210.337953  2.038584e+10  222551.815950  5504.977941   \n",
       "0  Linear Regression  395647.092560  2.416026e+10  253923.865115  5322.543702   \n",
       "\n",
       "    r2_mean    r2_std  \n",
       "3  0.800714  0.015330  \n",
       "1  0.777869  0.015792  \n",
       "4  0.764242  0.017344  \n",
       "2  0.643746  0.021216  \n",
       "0  0.621089  0.026033  "
      ]
     },
     "execution_count": 72,
     "metadata": {},
     "output_type": "execute_result"
    }
   ],
   "source": [
    "modelDF = pd.DataFrame({\n",
    "    'Model'       : ['Linear Regression', 'Random Forest', 'Decision Trees','XGB','GB'],\n",
    "    'RMSE_mean'    : [LR_RMSE_mean, RF_RMSE_mean, DT_RMSE_mean,XGB_RMSE_mean,GB_RMSE_mean],\n",
    "    'RMSE_std'    : [LR_RMSE_std, RF_RMSE_std, DT_RMSE_std,XGB_RMSE_std,GB_RMSE_std],\n",
    "    'MAE_mean'   : [LR_MAE_mean, RF_MAE_mean, DT_MAE_mean,XGB_MAE_mean,GB_MAE_mean],\n",
    "    'MAE_std'   : [LR_MAE_std, RF_MAE_std, DT_MAE_std,XGB_MAE_std,GB_MAE_std],\n",
    "    'r2_mean'      : [LR_r2_mean, RF_r2_mean, DT_r2_mean,XGB_r2_mean,GB_r2_mean],\n",
    "    'r2_std'      : [LR_r2_std, RF_r2_std, DT_r2_std,XGB_r2_std,GB_r2_std]\n",
    "    }, columns = ['Model', 'RMSE_mean', 'RMSE_std', 'MAE_mean', 'MAE_std', 'r2_mean', 'r2_std'])\n",
    "\n",
    "modelDF.sort_values(by='r2_mean', ascending=False)"
   ]
  },
  {
   "cell_type": "code",
   "execution_count": 73,
   "id": "34c37c12",
   "metadata": {},
   "outputs": [
    {
     "data": {
      "text/plain": [
       "<seaborn.axisgrid.FacetGrid at 0x2869908aeb0>"
      ]
     },
     "execution_count": 73,
     "metadata": {},
     "output_type": "execute_result"
    },
    {
     "data": {
      "image/png": "[encoded data removed]",
      "text/plain": [
       "<Figure size 720x360 with 1 Axes>"
      ]
     },
     "metadata": {},
     "output_type": "display_data"
    }
   ],
   "source": [
    "\n",
    "sns.catplot(x= 'Model', y= 'RMSE_mean', data= modelDF, kind='bar', legend='True',height=5,aspect=2)"
   ]
  },
  {
   "cell_type": "markdown",
   "id": "0c429079",
   "metadata": {},
   "source": [
    "The best model is XGB, followed by Random Forest, then GB. "
   ]
  },
  {
   "cell_type": "markdown",
   "id": "59820b67",
   "metadata": {},
   "source": [
    "## Feature Importance "
   ]
  },
  {
   "cell_type": "code",
   "execution_count": 98,
   "id": "56378956",
   "metadata": {},
   "outputs": [
    {
     "data": {
      "text/html": [
       "<div>\n",
       "<style scoped>\n",
       "    .dataframe tbody tr th:only-of-type {\n",
       "        vertical-align: middle;\n",
       "    }\n",
       "\n",
       "    .dataframe tbody tr th {\n",
       "        vertical-align: top;\n",
       "    }\n",
       "\n",
       "    .dataframe thead th {\n",
       "        text-align: right;\n",
       "    }\n",
       "</style>\n",
       "<table border=\"1\" class=\"dataframe\">\n",
       "  <thead>\n",
       "    <tr style=\"text-align: right;\">\n",
       "      <th></th>\n",
       "      <th>Importance</th>\n",
       "    </tr>\n",
       "  </thead>\n",
       "  <tbody>\n",
       "    <tr>\n",
       "      <th>Type_h</th>\n",
       "      <td>0.384080</td>\n",
       "    </tr>\n",
       "    <tr>\n",
       "      <th>max_sub_id</th>\n",
       "      <td>0.118853</td>\n",
       "    </tr>\n",
       "    <tr>\n",
       "      <th>min_t_id</th>\n",
       "      <td>0.109275</td>\n",
       "    </tr>\n",
       "    <tr>\n",
       "      <th>Regionname_Southern Metropolitan</th>\n",
       "      <td>0.097328</td>\n",
       "    </tr>\n",
       "    <tr>\n",
       "      <th>Rooms</th>\n",
       "      <td>0.077095</td>\n",
       "    </tr>\n",
       "    <tr>\n",
       "      <th>Regionname_Northern Metropolitan</th>\n",
       "      <td>0.039522</td>\n",
       "    </tr>\n",
       "    <tr>\n",
       "      <th>Bathroom</th>\n",
       "      <td>0.034629</td>\n",
       "    </tr>\n",
       "    <tr>\n",
       "      <th>max_c_id</th>\n",
       "      <td>0.025867</td>\n",
       "    </tr>\n",
       "    <tr>\n",
       "      <th>BuildingArea</th>\n",
       "      <td>0.015968</td>\n",
       "    </tr>\n",
       "    <tr>\n",
       "      <th>Landsize</th>\n",
       "      <td>0.015635</td>\n",
       "    </tr>\n",
       "    <tr>\n",
       "      <th>Distance</th>\n",
       "      <td>0.013927</td>\n",
       "    </tr>\n",
       "    <tr>\n",
       "      <th>Year</th>\n",
       "      <td>0.010593</td>\n",
       "    </tr>\n",
       "    <tr>\n",
       "      <th>Regionname_Eastern Metropolitan</th>\n",
       "      <td>0.010407</td>\n",
       "    </tr>\n",
       "    <tr>\n",
       "      <th>Age</th>\n",
       "      <td>0.010153</td>\n",
       "    </tr>\n",
       "    <tr>\n",
       "      <th>Longtitude</th>\n",
       "      <td>0.008963</td>\n",
       "    </tr>\n",
       "    <tr>\n",
       "      <th>Propertycount</th>\n",
       "      <td>0.008126</td>\n",
       "    </tr>\n",
       "    <tr>\n",
       "      <th>Lattitude</th>\n",
       "      <td>0.007211</td>\n",
       "    </tr>\n",
       "    <tr>\n",
       "      <th>Car</th>\n",
       "      <td>0.005523</td>\n",
       "    </tr>\n",
       "    <tr>\n",
       "      <th>Regionname_Western Metropolitan</th>\n",
       "      <td>0.004303</td>\n",
       "    </tr>\n",
       "    <tr>\n",
       "      <th>Regionname_South-Eastern Metropolitan</th>\n",
       "      <td>0.002488</td>\n",
       "    </tr>\n",
       "    <tr>\n",
       "      <th>Regionname_Western Victoria</th>\n",
       "      <td>0.000055</td>\n",
       "    </tr>\n",
       "    <tr>\n",
       "      <th>Regionname_Northern Victoria</th>\n",
       "      <td>0.000000</td>\n",
       "    </tr>\n",
       "    <tr>\n",
       "      <th>Regionname_Eastern Victoria</th>\n",
       "      <td>0.000000</td>\n",
       "    </tr>\n",
       "    <tr>\n",
       "      <th>Type_t</th>\n",
       "      <td>0.000000</td>\n",
       "    </tr>\n",
       "    <tr>\n",
       "      <th>Type_u</th>\n",
       "      <td>0.000000</td>\n",
       "    </tr>\n",
       "  </tbody>\n",
       "</table>\n",
       "</div>"
      ],
      "text/plain": [
       "                                       Importance\n",
       "Type_h                                   0.384080\n",
       "max_sub_id                               0.118853\n",
       "min_t_id                                 0.109275\n",
       "Regionname_Southern Metropolitan         0.097328\n",
       "Rooms                                    0.077095\n",
       "Regionname_Northern Metropolitan         0.039522\n",
       "Bathroom                                 0.034629\n",
       "max_c_id                                 0.025867\n",
       "BuildingArea                             0.015968\n",
       "Landsize                                 0.015635\n",
       "Distance                                 0.013927\n",
       "Year                                     0.010593\n",
       "Regionname_Eastern Metropolitan          0.010407\n",
       "Age                                      0.010153\n",
       "Longtitude                               0.008963\n",
       "Propertycount                            0.008126\n",
       "Lattitude                                0.007211\n",
       "Car                                      0.005523\n",
       "Regionname_Western Metropolitan          0.004303\n",
       "Regionname_South-Eastern Metropolitan    0.002488\n",
       "Regionname_Western Victoria              0.000055\n",
       "Regionname_Northern Victoria             0.000000\n",
       "Regionname_Eastern Victoria              0.000000\n",
       "Type_t                                   0.000000\n",
       "Type_u                                   0.000000"
      ]
     },
     "execution_count": 98,
     "metadata": {},
     "output_type": "execute_result"
    }
   ],
   "source": [
    "cdf = pd.DataFrame(data = xgb.feature_importances_, index = X.columns, columns = ['Importance'])\n",
    "cdf.sort_values(by=['Importance'], ascending = False)"
   ]
  },
  {
   "cell_type": "code",
   "execution_count": 99,
   "id": "9038764e",
   "metadata": {},
   "outputs": [],
   "source": [
    "cdf2 = cdf.reset_index()"
   ]
  },
  {
   "cell_type": "code",
   "execution_count": 116,
   "id": "1e88557c",
   "metadata": {},
   "outputs": [],
   "source": [
    "cdf2.rename(columns = {\"index\" : \"Colname\"}, inplace = True)\n",
    "cdf2.sort_values(by=['Importance'], ascending = False, inplace=True)\n",
    "cdf3 = cdf2.head(10)"
   ]
  },
  {
   "cell_type": "code",
   "execution_count": 117,
   "id": "f6a04c30",
   "metadata": {},
   "outputs": [
    {
     "data": {
      "text/plain": [
       "<seaborn.axisgrid.FacetGrid at 0x286c337c5b0>"
      ]
     },
     "execution_count": 117,
     "metadata": {},
     "output_type": "execute_result"
    },
    {
     "data": {
      "image/png": "[encoded data removed]",
      "text/plain": [
       "<Figure size 720x360 with 1 Axes>"
      ]
     },
     "metadata": {},
     "output_type": "display_data"
    }
   ],
   "source": [
    "sns.catplot(x= 'Colname', y= 'Importance', data= cdf3, kind='bar', legend='True',height=5,aspect=2)"
   ]
  },
  {
   "cell_type": "code",
   "execution_count": 118,
   "id": "9cb13096",
   "metadata": {},
   "outputs": [
    {
     "name": "stdout",
     "output_type": "stream",
     "text": [
      "Fitting 5 folds for each of 25 candidates, totalling 125 fits\n",
      "Best parameters: {'subsample': 0.7999999999999999, 'n_estimators': 500, 'max_depth': 15, 'learning_rate': 0.01, 'colsample_bytree': 0.5, 'colsample_bylevel': 0.6}\n",
      "Lowest RMSE:  285343.567851427\n"
     ]
    }
   ],
   "source": [
    "from sklearn.model_selection import RandomizedSearchCV\n",
    "\n",
    "params = { 'max_depth': [3, 5, 6, 10, 15, 20],\n",
    "           'learning_rate': [0.01, 0.1, 0.2, 0.3],\n",
    "           'subsample': np.arange(0.5, 1.0, 0.1),\n",
    "           'colsample_bytree': np.arange(0.4, 1.0, 0.1),\n",
    "           'colsample_bylevel': np.arange(0.4, 1.0, 0.1),\n",
    "           'n_estimators': [100, 500]}\n",
    "\n",
    "xgbr = XGBRegressor(learning_rate=0.1,use_label_encoder=False,eval_metric='rmse')\n",
    "clf = RandomizedSearchCV(estimator=xgbr,\n",
    "                         param_distributions=params,\n",
    "                         scoring='neg_mean_squared_error',\n",
    "                         n_iter=25,\n",
    "                         verbose=1)\n",
    "clf.fit(x_train, y_train)\n",
    "print(\"Best parameters:\", clf.best_params_)\n",
    "print(\"Lowest RMSE: \", (-clf.best_score_)**(1/2.0))"
   ]
  },
  {
   "cell_type": "code",
   "execution_count": null,
   "id": "ee00edc6",
   "metadata": {},
   "outputs": [],
   "source": []
  }
 ],
 "metadata": {
  "kernelspec": {
   "display_name": "Python 3",
   "language": "python",
   "name": "python3"
  },
  "language_info": {
   "codemirror_mode": {
    "name": "ipython",
    "version": 3
   },
   "file_extension": ".py",
   "mimetype": "text/x-python",
   "name": "python",
   "nbconvert_exporter": "python",
   "pygments_lexer": "ipython3",
   "version": "3.8.8"
  }
 },
 "nbformat": 4,
 "nbformat_minor": 5
}
