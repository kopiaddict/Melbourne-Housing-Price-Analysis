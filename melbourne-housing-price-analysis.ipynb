{
 "cells": [
  {
   "cell_type": "markdown",
   "id": "f1c82782",
   "metadata": {
    "papermill": {
     "duration": 0.015624,
     "end_time": "2022-05-02T11:00:25.957544",
     "exception": false,
     "start_time": "2022-05-02T11:00:25.941920",
     "status": "completed"
    },
    "tags": []
   },
   "source": [
    "# Exercise on Melbourne Housing Price Analysis¶"
   ]
  },
  {
   "cell_type": "code",
   "execution_count": 1,
   "id": "f82a3265",
   "metadata": {
    "execution": {
     "iopub.execute_input": "2022-05-02T11:00:25.988225Z",
     "iopub.status.busy": "2022-05-02T11:00:25.987664Z",
     "iopub.status.idle": "2022-05-02T11:00:27.162925Z",
     "shell.execute_reply": "2022-05-02T11:00:27.161869Z"
    },
    "papermill": {
     "duration": 1.194053,
     "end_time": "2022-05-02T11:00:27.165914",
     "exception": false,
     "start_time": "2022-05-02T11:00:25.971861",
     "status": "completed"
    },
    "tags": []
   },
   "outputs": [],
   "source": [
    "#import libraries for EDA and visualisation\n",
    "import warnings\n",
    "warnings.simplefilter(action='ignore', category=FutureWarning)\n",
    "import pandas as pd\n",
    "import numpy as np\n",
    "from pandas.plotting import scatter_matrix\n",
    "import seaborn as sns\n",
    "import matplotlib.pyplot as plt\n",
    "%matplotlib inline\n",
    "from datetime import datetime\n",
    "from scipy.stats import norm"
   ]
  },
  {
   "cell_type": "code",
   "execution_count": 2,
   "id": "c7df28a3",
   "metadata": {
    "execution": {
     "iopub.execute_input": "2022-05-02T11:00:27.196422Z",
     "iopub.status.busy": "2022-05-02T11:00:27.196116Z",
     "iopub.status.idle": "2022-05-02T11:00:27.218377Z",
     "shell.execute_reply": "2022-05-02T11:00:27.217253Z"
    },
    "papermill": {
     "duration": 0.04145,
     "end_time": "2022-05-02T11:00:27.221559",
     "exception": false,
     "start_time": "2022-05-02T11:00:27.180109",
     "status": "completed"
    },
    "tags": []
   },
   "outputs": [
    {
     "name": "stdout",
     "output_type": "stream",
     "text": [
      "/kaggle/input/melbourne-housing-market/Melbourne_housing_FULL.csv\n",
      "/kaggle/input/melbourne-housing-market/MELBOURNE_HOUSE_PRICES_LESS.csv\n"
     ]
    }
   ],
   "source": [
    "# This Python 3 environment comes with many helpful analytics libraries installed\n",
    "# It is defined by the kaggle/python Docker image: https://github.com/kaggle/docker-python\n",
    "# For example, here's several helpful packages to load\n",
    "\n",
    "import numpy as np # linear algebra\n",
    "import pandas as pd # data processing, CSV file I/O (e.g. pd.read_csv)\n",
    "\n",
    "# Input data files are available in the read-only \"../input/\" directory\n",
    "# For example, running this (by clicking run or pressing Shift+Enter) will list all files under the input directory\n",
    "\n",
    "import os\n",
    "for dirname, _, filenames in os.walk('/kaggle/input'):\n",
    "    for filename in filenames:\n",
    "        print(os.path.join(dirname, filename))\n",
    "\n",
    "# You can write up to 20GB to the current directory (/kaggle/working/) that gets preserved as output when you create a version using \"Save & Run All\" \n",
    "# You can also write temporary files to /kaggle/temp/, but they won't be saved outside of the current session"
   ]
  },
  {
   "cell_type": "code",
   "execution_count": 3,
   "id": "0cd7182a",
   "metadata": {
    "execution": {
     "iopub.execute_input": "2022-05-02T11:00:27.253209Z",
     "iopub.status.busy": "2022-05-02T11:00:27.252932Z",
     "iopub.status.idle": "2022-05-02T11:00:27.556442Z",
     "shell.execute_reply": "2022-05-02T11:00:27.555481Z"
    },
    "papermill": {
     "duration": 0.322837,
     "end_time": "2022-05-02T11:00:27.559469",
     "exception": false,
     "start_time": "2022-05-02T11:00:27.236632",
     "status": "completed"
    },
    "tags": []
   },
   "outputs": [
    {
     "name": "stdout",
     "output_type": "stream",
     "text": [
      "<class 'pandas.core.frame.DataFrame'>\n",
      "RangeIndex: 34857 entries, 0 to 34856\n",
      "Data columns (total 21 columns):\n",
      " #   Column         Non-Null Count  Dtype  \n",
      "---  ------         --------------  -----  \n",
      " 0   Suburb         34857 non-null  object \n",
      " 1   Address        34857 non-null  object \n",
      " 2   Rooms          34857 non-null  int64  \n",
      " 3   Type           34857 non-null  object \n",
      " 4   Price          27247 non-null  float64\n",
      " 5   Method         34857 non-null  object \n",
      " 6   SellerG        34857 non-null  object \n",
      " 7   Date           34857 non-null  object \n",
      " 8   Distance       34856 non-null  float64\n",
      " 9   Postcode       34856 non-null  float64\n",
      " 10  Bedroom2       26640 non-null  float64\n",
      " 11  Bathroom       26631 non-null  float64\n",
      " 12  Car            26129 non-null  float64\n",
      " 13  Landsize       23047 non-null  float64\n",
      " 14  BuildingArea   13742 non-null  float64\n",
      " 15  YearBuilt      15551 non-null  float64\n",
      " 16  CouncilArea    34854 non-null  object \n",
      " 17  Lattitude      26881 non-null  float64\n",
      " 18  Longtitude     26881 non-null  float64\n",
      " 19  Regionname     34854 non-null  object \n",
      " 20  Propertycount  34854 non-null  float64\n",
      "dtypes: float64(12), int64(1), object(8)\n",
      "memory usage: 5.6+ MB\n"
     ]
    }
   ],
   "source": [
    "data= pd.read_csv('/kaggle/input/melbourne-housing-market/Melbourne_housing_FULL.csv')\n",
    "pd.set_option('display.max_columns', None)\n",
    "data.info()"
   ]
  },
  {
   "cell_type": "code",
   "execution_count": 4,
   "id": "ebca3e60",
   "metadata": {
    "execution": {
     "iopub.execute_input": "2022-05-02T11:00:27.592827Z",
     "iopub.status.busy": "2022-05-02T11:00:27.592522Z",
     "iopub.status.idle": "2022-05-02T11:00:27.629314Z",
     "shell.execute_reply": "2022-05-02T11:00:27.628282Z"
    },
    "papermill": {
     "duration": 0.056649,
     "end_time": "2022-05-02T11:00:27.632178",
     "exception": false,
     "start_time": "2022-05-02T11:00:27.575529",
     "status": "completed"
    },
    "tags": []
   },
   "outputs": [
    {
     "data": {
      "text/html": [
       "<div>\n",
       "<style scoped>\n",
       "    .dataframe tbody tr th:only-of-type {\n",
       "        vertical-align: middle;\n",
       "    }\n",
       "\n",
       "    .dataframe tbody tr th {\n",
       "        vertical-align: top;\n",
       "    }\n",
       "\n",
       "    .dataframe thead th {\n",
       "        text-align: right;\n",
       "    }\n",
       "</style>\n",
       "<table border=\"1\" class=\"dataframe\">\n",
       "  <thead>\n",
       "    <tr style=\"text-align: right;\">\n",
       "      <th></th>\n",
       "      <th>Suburb</th>\n",
       "      <th>Address</th>\n",
       "      <th>Rooms</th>\n",
       "      <th>Type</th>\n",
       "      <th>Price</th>\n",
       "      <th>Method</th>\n",
       "      <th>SellerG</th>\n",
       "      <th>Date</th>\n",
       "      <th>Distance</th>\n",
       "      <th>Postcode</th>\n",
       "      <th>Bedroom2</th>\n",
       "      <th>Bathroom</th>\n",
       "      <th>Car</th>\n",
       "      <th>Landsize</th>\n",
       "      <th>BuildingArea</th>\n",
       "      <th>YearBuilt</th>\n",
       "      <th>CouncilArea</th>\n",
       "      <th>Lattitude</th>\n",
       "      <th>Longtitude</th>\n",
       "      <th>Regionname</th>\n",
       "      <th>Propertycount</th>\n",
       "    </tr>\n",
       "  </thead>\n",
       "  <tbody>\n",
       "    <tr>\n",
       "      <th>0</th>\n",
       "      <td>Abbotsford</td>\n",
       "      <td>68 Studley St</td>\n",
       "      <td>2</td>\n",
       "      <td>h</td>\n",
       "      <td>NaN</td>\n",
       "      <td>SS</td>\n",
       "      <td>Jellis</td>\n",
       "      <td>3/09/2016</td>\n",
       "      <td>2.5</td>\n",
       "      <td>3067.0</td>\n",
       "      <td>2.0</td>\n",
       "      <td>1.0</td>\n",
       "      <td>1.0</td>\n",
       "      <td>126.0</td>\n",
       "      <td>NaN</td>\n",
       "      <td>NaN</td>\n",
       "      <td>Yarra City Council</td>\n",
       "      <td>-37.8014</td>\n",
       "      <td>144.9958</td>\n",
       "      <td>Northern Metropolitan</td>\n",
       "      <td>4019.0</td>\n",
       "    </tr>\n",
       "    <tr>\n",
       "      <th>1</th>\n",
       "      <td>Abbotsford</td>\n",
       "      <td>85 Turner St</td>\n",
       "      <td>2</td>\n",
       "      <td>h</td>\n",
       "      <td>1480000.0</td>\n",
       "      <td>S</td>\n",
       "      <td>Biggin</td>\n",
       "      <td>3/12/2016</td>\n",
       "      <td>2.5</td>\n",
       "      <td>3067.0</td>\n",
       "      <td>2.0</td>\n",
       "      <td>1.0</td>\n",
       "      <td>1.0</td>\n",
       "      <td>202.0</td>\n",
       "      <td>NaN</td>\n",
       "      <td>NaN</td>\n",
       "      <td>Yarra City Council</td>\n",
       "      <td>-37.7996</td>\n",
       "      <td>144.9984</td>\n",
       "      <td>Northern Metropolitan</td>\n",
       "      <td>4019.0</td>\n",
       "    </tr>\n",
       "    <tr>\n",
       "      <th>2</th>\n",
       "      <td>Abbotsford</td>\n",
       "      <td>25 Bloomburg St</td>\n",
       "      <td>2</td>\n",
       "      <td>h</td>\n",
       "      <td>1035000.0</td>\n",
       "      <td>S</td>\n",
       "      <td>Biggin</td>\n",
       "      <td>4/02/2016</td>\n",
       "      <td>2.5</td>\n",
       "      <td>3067.0</td>\n",
       "      <td>2.0</td>\n",
       "      <td>1.0</td>\n",
       "      <td>0.0</td>\n",
       "      <td>156.0</td>\n",
       "      <td>79.0</td>\n",
       "      <td>1900.0</td>\n",
       "      <td>Yarra City Council</td>\n",
       "      <td>-37.8079</td>\n",
       "      <td>144.9934</td>\n",
       "      <td>Northern Metropolitan</td>\n",
       "      <td>4019.0</td>\n",
       "    </tr>\n",
       "    <tr>\n",
       "      <th>3</th>\n",
       "      <td>Abbotsford</td>\n",
       "      <td>18/659 Victoria St</td>\n",
       "      <td>3</td>\n",
       "      <td>u</td>\n",
       "      <td>NaN</td>\n",
       "      <td>VB</td>\n",
       "      <td>Rounds</td>\n",
       "      <td>4/02/2016</td>\n",
       "      <td>2.5</td>\n",
       "      <td>3067.0</td>\n",
       "      <td>3.0</td>\n",
       "      <td>2.0</td>\n",
       "      <td>1.0</td>\n",
       "      <td>0.0</td>\n",
       "      <td>NaN</td>\n",
       "      <td>NaN</td>\n",
       "      <td>Yarra City Council</td>\n",
       "      <td>-37.8114</td>\n",
       "      <td>145.0116</td>\n",
       "      <td>Northern Metropolitan</td>\n",
       "      <td>4019.0</td>\n",
       "    </tr>\n",
       "    <tr>\n",
       "      <th>4</th>\n",
       "      <td>Abbotsford</td>\n",
       "      <td>5 Charles St</td>\n",
       "      <td>3</td>\n",
       "      <td>h</td>\n",
       "      <td>1465000.0</td>\n",
       "      <td>SP</td>\n",
       "      <td>Biggin</td>\n",
       "      <td>4/03/2017</td>\n",
       "      <td>2.5</td>\n",
       "      <td>3067.0</td>\n",
       "      <td>3.0</td>\n",
       "      <td>2.0</td>\n",
       "      <td>0.0</td>\n",
       "      <td>134.0</td>\n",
       "      <td>150.0</td>\n",
       "      <td>1900.0</td>\n",
       "      <td>Yarra City Council</td>\n",
       "      <td>-37.8093</td>\n",
       "      <td>144.9944</td>\n",
       "      <td>Northern Metropolitan</td>\n",
       "      <td>4019.0</td>\n",
       "    </tr>\n",
       "  </tbody>\n",
       "</table>\n",
       "</div>"
      ],
      "text/plain": [
       "       Suburb             Address  Rooms Type      Price Method SellerG  \\\n",
       "0  Abbotsford       68 Studley St      2    h        NaN     SS  Jellis   \n",
       "1  Abbotsford        85 Turner St      2    h  1480000.0      S  Biggin   \n",
       "2  Abbotsford     25 Bloomburg St      2    h  1035000.0      S  Biggin   \n",
       "3  Abbotsford  18/659 Victoria St      3    u        NaN     VB  Rounds   \n",
       "4  Abbotsford        5 Charles St      3    h  1465000.0     SP  Biggin   \n",
       "\n",
       "        Date  Distance  Postcode  Bedroom2  Bathroom  Car  Landsize  \\\n",
       "0  3/09/2016       2.5    3067.0       2.0       1.0  1.0     126.0   \n",
       "1  3/12/2016       2.5    3067.0       2.0       1.0  1.0     202.0   \n",
       "2  4/02/2016       2.5    3067.0       2.0       1.0  0.0     156.0   \n",
       "3  4/02/2016       2.5    3067.0       3.0       2.0  1.0       0.0   \n",
       "4  4/03/2017       2.5    3067.0       3.0       2.0  0.0     134.0   \n",
       "\n",
       "   BuildingArea  YearBuilt         CouncilArea  Lattitude  Longtitude  \\\n",
       "0           NaN        NaN  Yarra City Council   -37.8014    144.9958   \n",
       "1           NaN        NaN  Yarra City Council   -37.7996    144.9984   \n",
       "2          79.0     1900.0  Yarra City Council   -37.8079    144.9934   \n",
       "3           NaN        NaN  Yarra City Council   -37.8114    145.0116   \n",
       "4         150.0     1900.0  Yarra City Council   -37.8093    144.9944   \n",
       "\n",
       "              Regionname  Propertycount  \n",
       "0  Northern Metropolitan         4019.0  \n",
       "1  Northern Metropolitan         4019.0  \n",
       "2  Northern Metropolitan         4019.0  \n",
       "3  Northern Metropolitan         4019.0  \n",
       "4  Northern Metropolitan         4019.0  "
      ]
     },
     "execution_count": 4,
     "metadata": {},
     "output_type": "execute_result"
    }
   ],
   "source": [
    "data.head()"
   ]
  },
  {
   "cell_type": "code",
   "execution_count": 5,
   "id": "95861156",
   "metadata": {
    "execution": {
     "iopub.execute_input": "2022-05-02T11:00:27.665639Z",
     "iopub.status.busy": "2022-05-02T11:00:27.665326Z",
     "iopub.status.idle": "2022-05-02T11:00:27.670741Z",
     "shell.execute_reply": "2022-05-02T11:00:27.669984Z"
    },
    "papermill": {
     "duration": 0.024989,
     "end_time": "2022-05-02T11:00:27.672787",
     "exception": false,
     "start_time": "2022-05-02T11:00:27.647798",
     "status": "completed"
    },
    "tags": []
   },
   "outputs": [
    {
     "data": {
      "text/plain": [
       "(34857, 21)"
      ]
     },
     "execution_count": 5,
     "metadata": {},
     "output_type": "execute_result"
    }
   ],
   "source": [
    "data.shape"
   ]
  },
  {
   "cell_type": "code",
   "execution_count": 6,
   "id": "a2cc5217",
   "metadata": {
    "execution": {
     "iopub.execute_input": "2022-05-02T11:00:27.706773Z",
     "iopub.status.busy": "2022-05-02T11:00:27.706484Z",
     "iopub.status.idle": "2022-05-02T11:00:27.720566Z",
     "shell.execute_reply": "2022-05-02T11:00:27.719677Z"
    },
    "papermill": {
     "duration": 0.033672,
     "end_time": "2022-05-02T11:00:27.722617",
     "exception": false,
     "start_time": "2022-05-02T11:00:27.688945",
     "status": "completed"
    },
    "tags": []
   },
   "outputs": [
    {
     "data": {
      "text/plain": [
       "Rooms                0\n",
       "Price             7610\n",
       "Distance             1\n",
       "Postcode             1\n",
       "Bedroom2          8217\n",
       "Bathroom          8226\n",
       "Car               8728\n",
       "Landsize         11810\n",
       "BuildingArea     21115\n",
       "YearBuilt        19306\n",
       "Lattitude         7976\n",
       "Longtitude        7976\n",
       "Propertycount        3\n",
       "dtype: int64"
      ]
     },
     "execution_count": 6,
     "metadata": {},
     "output_type": "execute_result"
    }
   ],
   "source": [
    "# Numerical columns and which has null values \n",
    "num_col = data.select_dtypes(exclude=['object'])\n",
    "num_col\n",
    "num_col.isnull().sum()"
   ]
  },
  {
   "cell_type": "code",
   "execution_count": 7,
   "id": "6e6389bb",
   "metadata": {
    "execution": {
     "iopub.execute_input": "2022-05-02T11:00:27.757074Z",
     "iopub.status.busy": "2022-05-02T11:00:27.756793Z",
     "iopub.status.idle": "2022-05-02T11:00:27.794542Z",
     "shell.execute_reply": "2022-05-02T11:00:27.793533Z"
    },
    "papermill": {
     "duration": 0.057731,
     "end_time": "2022-05-02T11:00:27.796762",
     "exception": false,
     "start_time": "2022-05-02T11:00:27.739031",
     "status": "completed"
    },
    "tags": []
   },
   "outputs": [
    {
     "data": {
      "text/plain": [
       "Suburb         0\n",
       "Address        0\n",
       "Type           0\n",
       "Method         0\n",
       "SellerG        0\n",
       "Date           0\n",
       "CouncilArea    3\n",
       "Regionname     3\n",
       "dtype: int64"
      ]
     },
     "execution_count": 7,
     "metadata": {},
     "output_type": "execute_result"
    }
   ],
   "source": [
    "# Categorical columns and which have null values \n",
    "cat_col = data.select_dtypes(exclude=['int64','float64'])\n",
    "cat_col.isnull().sum()"
   ]
  },
  {
   "cell_type": "markdown",
   "id": "be403fc1",
   "metadata": {
    "papermill": {
     "duration": 0.016258,
     "end_time": "2022-05-02T11:00:27.829878",
     "exception": false,
     "start_time": "2022-05-02T11:00:27.813620",
     "status": "completed"
    },
    "tags": []
   },
   "source": [
    "## Preliminary analysis of dataset & Data Cleaning\n",
    "\n",
    "Address the following points first.\n",
    "\n",
    "Change Postcode from float64 to object (category)\n",
    "\n",
    "Change Car, Bedroom2 and Bathroom from float64 to integer\n",
    "\n",
    "Change YearBuilt from float64 to integer\n",
    "\n",
    "Missing Values for BuildingArea, Landsize and Distance\n",
    "\n",
    "Missing values for categorical fields\n",
    "\n",
    "Change Date from object to Date field"
   ]
  },
  {
   "cell_type": "markdown",
   "id": "2c632854",
   "metadata": {
    "papermill": {
     "duration": 0.016589,
     "end_time": "2022-05-02T11:00:27.863901",
     "exception": false,
     "start_time": "2022-05-02T11:00:27.847312",
     "status": "completed"
    },
    "tags": []
   },
   "source": [
    "### Postcode"
   ]
  },
  {
   "cell_type": "code",
   "execution_count": 8,
   "id": "71fceed4",
   "metadata": {
    "execution": {
     "iopub.execute_input": "2022-05-02T11:00:27.901428Z",
     "iopub.status.busy": "2022-05-02T11:00:27.901147Z",
     "iopub.status.idle": "2022-05-02T11:00:27.910814Z",
     "shell.execute_reply": "2022-05-02T11:00:27.909985Z"
    },
    "papermill": {
     "duration": 0.030719,
     "end_time": "2022-05-02T11:00:27.913034",
     "exception": false,
     "start_time": "2022-05-02T11:00:27.882315",
     "status": "completed"
    },
    "tags": []
   },
   "outputs": [],
   "source": [
    "data['Postcode']= data['Postcode'].astype('object')"
   ]
  },
  {
   "cell_type": "code",
   "execution_count": 9,
   "id": "7d0711a3",
   "metadata": {
    "execution": {
     "iopub.execute_input": "2022-05-02T11:00:27.949863Z",
     "iopub.status.busy": "2022-05-02T11:00:27.948960Z",
     "iopub.status.idle": "2022-05-02T11:00:27.984011Z",
     "shell.execute_reply": "2022-05-02T11:00:27.982994Z"
    },
    "papermill": {
     "duration": 0.055923,
     "end_time": "2022-05-02T11:00:27.986155",
     "exception": false,
     "start_time": "2022-05-02T11:00:27.930232",
     "status": "completed"
    },
    "tags": []
   },
   "outputs": [
    {
     "data": {
      "text/html": [
       "<div>\n",
       "<style scoped>\n",
       "    .dataframe tbody tr th:only-of-type {\n",
       "        vertical-align: middle;\n",
       "    }\n",
       "\n",
       "    .dataframe tbody tr th {\n",
       "        vertical-align: top;\n",
       "    }\n",
       "\n",
       "    .dataframe thead th {\n",
       "        text-align: right;\n",
       "    }\n",
       "</style>\n",
       "<table border=\"1\" class=\"dataframe\">\n",
       "  <thead>\n",
       "    <tr style=\"text-align: right;\">\n",
       "      <th></th>\n",
       "      <th>Suburb</th>\n",
       "      <th>Address</th>\n",
       "      <th>Rooms</th>\n",
       "      <th>Type</th>\n",
       "      <th>Price</th>\n",
       "      <th>Method</th>\n",
       "      <th>SellerG</th>\n",
       "      <th>Date</th>\n",
       "      <th>Distance</th>\n",
       "      <th>Postcode</th>\n",
       "      <th>Bedroom2</th>\n",
       "      <th>Bathroom</th>\n",
       "      <th>Car</th>\n",
       "      <th>Landsize</th>\n",
       "      <th>BuildingArea</th>\n",
       "      <th>YearBuilt</th>\n",
       "      <th>CouncilArea</th>\n",
       "      <th>Lattitude</th>\n",
       "      <th>Longtitude</th>\n",
       "      <th>Regionname</th>\n",
       "      <th>Propertycount</th>\n",
       "    </tr>\n",
       "  </thead>\n",
       "  <tbody>\n",
       "    <tr>\n",
       "      <th>29483</th>\n",
       "      <td>Fawkner Lot</td>\n",
       "      <td>1/3 Brian St</td>\n",
       "      <td>3</td>\n",
       "      <td>h</td>\n",
       "      <td>616000.0</td>\n",
       "      <td>SP</td>\n",
       "      <td>Brad</td>\n",
       "      <td>6/01/2018</td>\n",
       "      <td>NaN</td>\n",
       "      <td>NaN</td>\n",
       "      <td>NaN</td>\n",
       "      <td>NaN</td>\n",
       "      <td>NaN</td>\n",
       "      <td>NaN</td>\n",
       "      <td>NaN</td>\n",
       "      <td>NaN</td>\n",
       "      <td>NaN</td>\n",
       "      <td>NaN</td>\n",
       "      <td>NaN</td>\n",
       "      <td>NaN</td>\n",
       "      <td>NaN</td>\n",
       "    </tr>\n",
       "  </tbody>\n",
       "</table>\n",
       "</div>"
      ],
      "text/plain": [
       "            Suburb       Address  Rooms Type     Price Method SellerG  \\\n",
       "29483  Fawkner Lot  1/3 Brian St      3    h  616000.0     SP    Brad   \n",
       "\n",
       "            Date  Distance Postcode  Bedroom2  Bathroom  Car  Landsize  \\\n",
       "29483  6/01/2018       NaN      NaN       NaN       NaN  NaN       NaN   \n",
       "\n",
       "       BuildingArea  YearBuilt CouncilArea  Lattitude  Longtitude Regionname  \\\n",
       "29483           NaN        NaN         NaN        NaN         NaN        NaN   \n",
       "\n",
       "       Propertycount  \n",
       "29483            NaN  "
      ]
     },
     "execution_count": 9,
     "metadata": {},
     "output_type": "execute_result"
    }
   ],
   "source": [
    "data[data['Postcode'].isnull()]   # none null"
   ]
  },
  {
   "cell_type": "code",
   "execution_count": null,
   "id": "72b331ee",
   "metadata": {
    "papermill": {
     "duration": 0.018034,
     "end_time": "2022-05-02T11:00:28.022432",
     "exception": false,
     "start_time": "2022-05-02T11:00:28.004398",
     "status": "completed"
    },
    "tags": []
   },
   "outputs": [],
   "source": []
  }
 ],
 "metadata": {
  "kernelspec": {
   "display_name": "Python 3",
   "language": "python",
   "name": "python3"
  },
  "language_info": {
   "codemirror_mode": {
    "name": "ipython",
    "version": 3
   },
   "file_extension": ".py",
   "mimetype": "text/x-python",
   "name": "python",
   "nbconvert_exporter": "python",
   "pygments_lexer": "ipython3",
   "version": "3.7.12"
  },
  "papermill": {
   "default_parameters": {},
   "duration": 13.541504,
   "end_time": "2022-05-02T11:00:28.763554",
   "environment_variables": {},
   "exception": null,
   "input_path": "__notebook__.ipynb",
   "output_path": "__notebook__.ipynb",
   "parameters": {},
   "start_time": "2022-05-02T11:00:15.222050",
   "version": "2.3.4"
  }
 },
 "nbformat": 4,
 "nbformat_minor": 5
}
